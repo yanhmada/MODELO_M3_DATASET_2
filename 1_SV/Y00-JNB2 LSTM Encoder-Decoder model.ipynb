{
 "cells": [
  {
   "cell_type": "markdown",
   "id": "e4ddfc88",
   "metadata": {},
   "source": [
    "<summary>\n",
    "    <font size=\"5\" color=\"gray\"><b> CONVENIO CENACE-UNISON 2023-2025\n",
    " </b></font>\n",
    "</summary><br>\n",
    "<summary>\n",
    "    <font size=\"4\" color=\"orange\"><b> DESARROLLO DE PROTOTIPO: METODOLOGÍA CON APRENDIZAJE PROFUNDO PARA EL PRONÓSTICO A CORTO PLAZO DE DEMANDA DE ENERGÍA CON DATOS EN ADELANTO.\n",
    " </b></font>\n",
    "</summary>\n",
    "\n",
    "\n",
    "\n",
    "---\n",
    "\n",
    "<summary>\n",
    "    <font size=\"6\" color=\"gray\"><b> Libreta JNB2: Entrenamiento \n",
    " </b></font>\n",
    "</summary>\n",
    "<summary>\n",
    "    <font size=\"5\" color=\"gray\"><b> Modelado parte 2\n",
    " </b></font>\n",
    "</summary>\n",
    "\n",
    "--- \n",
    "\n",
    "<summary>\n",
    "    <font size=\"4\" color=\"lightblue\"><b> MODELO ENCODER-DECODER SIN SEÑALES EN ADELANTO\n",
    " </b></font>\n",
    "</summary>\n",
    "\n",
    "---\n",
    "\n",
    "\n",
    "    \n",
    "    \n",
    "OLIVIA CAROLINA GUTÚ OCAMPO\n",
    "\n",
    "REYNA YANET HERNÁNDEZ MADA\n",
    "\n",
    "JULIO WAISSMAN VILANOVA (Responsable del proyecto)\n",
    "\n",
    "\n",
    "---\n",
    "\n",
    "\n",
    "<summary>\n",
    "    <font size=\"4\" color=\"orange\"><b> INPUTS\n",
    " </b></font>\n",
    "</summary>\n",
    "\n",
    "   * **'./interal_inputs/TENSORS/X_encoder_train.npy'** \n",
    "   * **'./interal_inputs/TENSORS/y_train.npy'** \n",
    "   * **'./interal_inputs/TENSORS/X_encoder_val.npy'** \n",
    "   * **'./interal_inputs/TENSORS/y_val.npy'** \n",
    "   * **'./interal_inputs/TENSORS/X_encoder_test.npy'** \n",
    "   * **'./interal_inputs/TENSORS/y_test.npy'** \n",
    "\n",
    "--- \n",
    "<summary>\n",
    "    <font size=\"4\" color=\"orange\"><b> CHECK POINTS\n",
    " </b></font>\n",
    "</summary>\n",
    "\n",
    "   * Verificación de curvas de aprendizaje.\n",
    "    \n",
    "   * Verificación de desempeño (MAPE) sobre el conjunto de prueba.\n",
    "\n",
    "---\n",
    "<summary>\n",
    "    <font size=\"4\" color=\"orange\"><b> OUTPUTS\n",
    " </b></font>\n",
    "</summary>\n",
    "\n",
    "Se exportan finalmente, el pronóstico sobre el tensor de datos de prueba (antes del escalamiento final), las curvas de aprendizaje y el modelo.\n",
    "    \n",
    "   *  **'./outputs/MODEL/y_estimado_antes_minmax.npy'**\n",
    "   *  **'./outputs/MODEL/training_loss.npy'**\n",
    "   *  **'./outputs/MODEL/val_loss.npy'**\n",
    "   *  **'./outputs/MODEL/modelo.h5'**\n"
   ]
  },
  {
   "cell_type": "markdown",
   "id": "d7287675",
   "metadata": {
    "heading_collapsed": true
   },
   "source": [
    "## 1.   Importación de librerías "
   ]
  },
  {
   "cell_type": "code",
   "execution_count": 1,
   "id": "5a7c2c32",
   "metadata": {
    "hidden": true,
    "tags": []
   },
   "outputs": [],
   "source": [
    "# librerías básicas\n",
    "import numpy as np\n",
    "import pandas as pd\n",
    "import matplotlib.pyplot as plt\n",
    "import os\n",
    "\n",
    "# librerías de normalización\n",
    "from sklearn.preprocessing import MinMaxScaler\n",
    "from sklearn.metrics import mean_absolute_percentage_error, r2_score\n",
    "\n",
    "# Tensorflow y keras\n",
    "os.environ['TF_CPP_MIN_LOG_LEVEL'] = '2'\n",
    "import tensorflow as tf\n",
    "from tensorflow import keras\n",
    "from tensorflow.keras import layers\n",
    "\n",
    "# Auxiliar libraries\n",
    "import plotly.express as px\n",
    "import plotly.graph_objects as go\n",
    "import plotly.io as pio\n",
    "pio.renderers.default='notebook'\n",
    "import pickle as pk\n",
    "import scipy\n",
    "from scipy import stats\n",
    "import warnings\n",
    "warnings.filterwarnings('ignore')"
   ]
  },
  {
   "cell_type": "markdown",
   "id": "9427d327",
   "metadata": {
    "heading_collapsed": true
   },
   "source": [
    "## 2.  Importando tensores de entrada"
   ]
  },
  {
   "cell_type": "code",
   "execution_count": 2,
   "id": "fbb27cbb",
   "metadata": {
    "hidden": true,
    "tags": []
   },
   "outputs": [],
   "source": [
    "# Importing tensors\n",
    "X_encoder_train = np.load('./internal_inputs/TENSORS/X_encoder_train.npy')\n",
    "y_train = np.load('./internal_inputs/TENSORS/y_train.npy')\n",
    "X_encoder_val = np.load('./internal_inputs/TENSORS/X_encoder_val.npy')\n",
    "y_val = np.load('./internal_inputs/TENSORS/y_val.npy')\n",
    "X_encoder_test = np.load('./internal_inputs/TENSORS/X_encoder_test.npy')\n",
    "y_test = np.load('./internal_inputs/TENSORS/y_test.npy')"
   ]
  },
  {
   "cell_type": "markdown",
   "id": "ec61312c",
   "metadata": {
    "heading_collapsed": true
   },
   "source": [
    "## 3.   Ajuste de modelo"
   ]
  },
  {
   "cell_type": "code",
   "execution_count": 3,
   "id": "dad2be2e",
   "metadata": {
    "hidden": true,
    "tags": []
   },
   "outputs": [],
   "source": [
    "## Setting the features\n",
    "all_features = ['Energy_Demand', \n",
    "                'Day', \n",
    "                'Hour', \n",
    "                'Month', \n",
    "                'PC1_Weather',\n",
    "                'Monday_Holiday', \n",
    "                'Tuesday_Aft_Hol', \n",
    "                'Easter_week',\n",
    "                'May_1s', \n",
    "                'May_10t', \n",
    "                'Sept_16', \n",
    "                'Nov_2nd', \n",
    "                'Before_Christmas_NY',\n",
    "                'Christmas_NY', \n",
    "                'After_Christmas_NY'\n",
    "               ]"
   ]
  },
  {
   "cell_type": "code",
   "execution_count": 4,
   "id": "c3595394",
   "metadata": {
    "hidden": true,
    "tags": []
   },
   "outputs": [],
   "source": [
    "#Ajuste de hiperparámetros\n",
    "n_pasado = (24 * 7) + 12\n",
    "n_futuro = 36 \n",
    "m = len(all_features)"
   ]
  },
  {
   "cell_type": "code",
   "execution_count": 5,
   "id": "aa41b217",
   "metadata": {
    "hidden": true
   },
   "outputs": [],
   "source": [
    "# Ajuste encoder\n",
    "encoder_inputs = layers.Input(shape=(n_pasado, m))\n",
    "\n",
    "encoder_l1 = layers.LSTM(100, return_state=True)# 100: dimension of hidden states\n",
    "encoder_outputs1 = encoder_l1(encoder_inputs)\n",
    "\n",
    "encoder_states1 = encoder_outputs1[1:]\n",
    "\n",
    "# Ajuste decoder\n",
    "decoder_rvec = layers.RepeatVector(n_futuro) # repeat vector 24 times\n",
    "decoder_inputs = decoder_rvec(encoder_outputs1[0])\n",
    "\n",
    "decoder_l1 = layers.LSTM(100, return_sequences=True)\n",
    "decoder_l1_output = decoder_l1(decoder_inputs, initial_state=encoder_states1)\n",
    "\n",
    "decoder_l2 = layers.TimeDistributed(layers.Dense(1)) # just one dense layer\n",
    "decoder_outputs = decoder_l2(decoder_l1_output)"
   ]
  },
  {
   "cell_type": "code",
   "execution_count": 6,
   "id": "2817df47",
   "metadata": {
    "hidden": true
   },
   "outputs": [
    {
     "name": "stdout",
     "output_type": "stream",
     "text": [
      "Model: \"model\"\n",
      "__________________________________________________________________________________________________\n",
      " Layer (type)                   Output Shape         Param #     Connected to                     \n",
      "==================================================================================================\n",
      " input_1 (InputLayer)           [(None, 180, 15)]    0           []                               \n",
      "                                                                                                  \n",
      " lstm (LSTM)                    [(None, 100),        46400       ['input_1[0][0]']                \n",
      "                                 (None, 100),                                                     \n",
      "                                 (None, 100)]                                                     \n",
      "                                                                                                  \n",
      " repeat_vector (RepeatVector)   (None, 36, 100)      0           ['lstm[0][0]']                   \n",
      "                                                                                                  \n",
      " lstm_1 (LSTM)                  (None, 36, 100)      80400       ['repeat_vector[0][0]',          \n",
      "                                                                  'lstm[0][1]',                   \n",
      "                                                                  'lstm[0][2]']                   \n",
      "                                                                                                  \n",
      " time_distributed (TimeDistribu  (None, 36, 1)       101         ['lstm_1[0][0]']                 \n",
      " ted)                                                                                             \n",
      "                                                                                                  \n",
      "==================================================================================================\n",
      "Total params: 126,901\n",
      "Trainable params: 126,901\n",
      "Non-trainable params: 0\n",
      "__________________________________________________________________________________________________\n"
     ]
    }
   ],
   "source": [
    "modelo = keras.models.Model(encoder_inputs, decoder_outputs)\n",
    "modelo.summary()"
   ]
  },
  {
   "cell_type": "markdown",
   "id": "8bde72ef",
   "metadata": {
    "heading_collapsed": true
   },
   "source": [
    "## 4.   Entrenamiento del  modelo"
   ]
  },
  {
   "cell_type": "code",
   "execution_count": 7,
   "id": "892bd0fe",
   "metadata": {
    "hidden": true
   },
   "outputs": [
    {
     "name": "stdout",
     "output_type": "stream",
     "text": [
      "Epoch 1/25\n",
      "3694/3694 [==============================] - 51s 13ms/step - loss: 0.0427 - val_loss: 0.0787 - lr: 0.0010\n",
      "Epoch 2/25\n",
      "3694/3694 [==============================] - 47s 13ms/step - loss: 0.0316 - val_loss: 0.0716 - lr: 9.0000e-04\n",
      "Epoch 3/25\n",
      "3694/3694 [==============================] - 45s 12ms/step - loss: 0.0290 - val_loss: 0.0661 - lr: 8.1000e-04\n",
      "Epoch 4/25\n",
      "3694/3694 [==============================] - 45s 12ms/step - loss: 0.0276 - val_loss: 0.0821 - lr: 7.2900e-04\n",
      "Epoch 5/25\n",
      "3694/3694 [==============================] - 46s 13ms/step - loss: 0.0265 - val_loss: 0.0729 - lr: 6.5610e-04\n",
      "Epoch 6/25\n",
      "3694/3694 [==============================] - 47s 13ms/step - loss: 0.0256 - val_loss: 0.0991 - lr: 5.9049e-04\n",
      "Epoch 7/25\n",
      "3694/3694 [==============================] - 47s 13ms/step - loss: 0.0249 - val_loss: 0.0927 - lr: 5.3144e-04\n",
      "Epoch 8/25\n",
      "3694/3694 [==============================] - 47s 13ms/step - loss: 0.0243 - val_loss: 0.0811 - lr: 4.7830e-04\n",
      "Model stopped training early at epoch 8\n"
     ]
    }
   ],
   "source": [
    "#Learning rate es menor en cada epoch\n",
    "reduce_lr = keras.callbacks.LearningRateScheduler(lambda x: 1e-3 * 0.90 ** x) \n",
    "\n",
    "## Se guarda el mejor modelo, de acuerdo a \"val_loss\"\n",
    "path_checkpoint = './outputs/MODEL/model_checkpoint.h5'\n",
    "modelckpt_callback = keras.callbacks.ModelCheckpoint(\n",
    "    monitor = 'val_loss',\n",
    "    filepath = path_checkpoint,\n",
    "    verbose = 1,\n",
    "    save_weights_only = True,\n",
    "    save_best_only = True,\n",
    ")\n",
    "\n",
    "## Para evitar overfitting, se detiene el entrenamiento despues\n",
    "# # de epochs sin mejora, de acuerdo a \"val_loss\"\n",
    "es_callback = keras.callbacks.EarlyStopping(\n",
    "    monitor = 'val_loss', \n",
    "    min_delta = 0, \n",
    "    patience = 5 \n",
    "    \n",
    ")\n",
    "modelo.compile(\n",
    "    optimizer = keras.optimizers.Adam(), \n",
    "    loss = 'mae', \n",
    ")\n",
    "\n",
    "history = modelo.fit(\n",
    "    X_encoder_train, y_train,\n",
    "    epochs = 25, \n",
    "    validation_data = (X_encoder_val, y_val),\n",
    "    batch_size = 32,\n",
    "    callbacks = [reduce_lr, es_callback]\n",
    ") \n",
    "\n",
    "if es_callback.stopped_epoch < 25:\n",
    "    print(\"Model stopped training early at epoch\", es_callback.stopped_epoch + 1)\n",
    "else:\n",
    "    print(\"Model completed training for all 25 epochs\")"
   ]
  },
  {
   "cell_type": "markdown",
   "id": "43075d2f",
   "metadata": {
    "heading_collapsed": true
   },
   "source": [
    "## 5.   Check point: verificar learning curves"
   ]
  },
  {
   "cell_type": "code",
   "execution_count": 8,
   "id": "326c89a6",
   "metadata": {
    "hidden": true
   },
   "outputs": [
    {
     "data": {
      "text/plain": [
       "<matplotlib.legend.Legend at 0x7fae78bd6a70>"
      ]
     },
     "execution_count": 8,
     "metadata": {},
     "output_type": "execute_result"
    },
    {
     "data": {
      "text/plain": [
       "<Figure size 640x480 with 0 Axes>"
      ]
     },
     "metadata": {},
     "output_type": "display_data"
    },
    {
     "data": {
      "image/png": "[encoded data removed]",
      "text/plain": [
       "<Figure size 2500x1300 with 1 Axes>"
      ]
     },
     "metadata": {},
     "output_type": "display_data"
    }
   ],
   "source": [
    "# Model Loss Chart\n",
    "fig = plt.figure()\n",
    "plt.figure(figsize=(25, 13))\n",
    "plt.plot(history.history['loss'])\n",
    "plt.plot(history.history['val_loss'])\n",
    "plt.title('Model loss')\n",
    "plt.ylabel('loss')\n",
    "plt.xlabel('epoch')\n",
    "plt.legend(['train', 'val'], loc='upper left')"
   ]
  },
  {
   "cell_type": "code",
   "execution_count": 9,
   "id": "f5b310ec",
   "metadata": {
    "hidden": true
   },
   "outputs": [],
   "source": [
    "# Exportar loss values durante el entrenamiento por  epoch\n",
    "np.save('./outputs/MODEL/training_loss.npy', history.history['loss'])\n",
    "np.save('./outputs/MODEL/val_loss.npy', history.history['val_loss'])"
   ]
  },
  {
   "cell_type": "markdown",
   "id": "df025208",
   "metadata": {
    "heading_collapsed": true
   },
   "source": [
    "## 6.   Check point: verificar performance  set de prueba"
   ]
  },
  {
   "cell_type": "code",
   "execution_count": 10,
   "id": "49b29431",
   "metadata": {
    "hidden": true
   },
   "outputs": [
    {
     "name": "stdout",
     "output_type": "stream",
     "text": [
      "17/17 [==============================] - 1s 5ms/step\n"
     ]
    }
   ],
   "source": [
    "y_est = modelo.predict(X_encoder_test)"
   ]
  },
  {
   "cell_type": "code",
   "execution_count": 11,
   "id": "c39b8154",
   "metadata": {
    "hidden": true
   },
   "outputs": [],
   "source": [
    "#Exportar el tensor de pronóstico antes de  transformar al  scaler original\n",
    "np.save('./outputs/MODEL/y_estimado_antes_minmax.npy', y_est)"
   ]
  },
  {
   "cell_type": "code",
   "execution_count": 12,
   "id": "a59580df",
   "metadata": {
    "hidden": true
   },
   "outputs": [],
   "source": [
    "scalers = pk.load(open(\"./internal_inputs/MINMAX/scalers.pkl\",'rb'))\n",
    "scaler = scalers['Energy_Demand']"
   ]
  },
  {
   "cell_type": "code",
   "execution_count": 13,
   "id": "d1822382",
   "metadata": {},
   "outputs": [],
   "source": [
    "scalers = pk.load(open(\"./internal_inputs/MINMAX/scalers.pkl\",'rb'))\n"
   ]
  },
  {
   "cell_type": "code",
   "execution_count": 14,
   "id": "9fdea572",
   "metadata": {},
   "outputs": [
    {
     "data": {
      "text/plain": [
       "{'Energy_Demand': MinMaxScaler(feature_range=(-1, 1)),\n",
       " 'Day': MinMaxScaler(feature_range=(-1, 1)),\n",
       " 'Hour': MinMaxScaler(feature_range=(-1, 1)),\n",
       " 'Month': MinMaxScaler(feature_range=(-1, 1)),\n",
       " 'PC1_Weather': MinMaxScaler(feature_range=(-1, 1)),\n",
       " 'Monday_Holiday': MinMaxScaler(feature_range=(-1, 1)),\n",
       " 'Tuesday_Aft_Hol': MinMaxScaler(feature_range=(-1, 1)),\n",
       " 'Easter_week': MinMaxScaler(feature_range=(-1, 1)),\n",
       " 'May_1s': MinMaxScaler(feature_range=(-1, 1)),\n",
       " 'May_10t': MinMaxScaler(feature_range=(-1, 1)),\n",
       " 'Sept_16': MinMaxScaler(feature_range=(-1, 1)),\n",
       " 'Nov_2nd': MinMaxScaler(feature_range=(-1, 1)),\n",
       " 'Before_Christmas_NY': MinMaxScaler(feature_range=(-1, 1)),\n",
       " 'Christmas_NY': MinMaxScaler(feature_range=(-1, 1)),\n",
       " 'After_Christmas_NY': MinMaxScaler(feature_range=(-1, 1))}"
      ]
     },
     "execution_count": 14,
     "metadata": {},
     "output_type": "execute_result"
    }
   ],
   "source": [
    "scalers"
   ]
  },
  {
   "cell_type": "code",
   "execution_count": 15,
   "id": "bc4b100f",
   "metadata": {
    "hidden": true
   },
   "outputs": [
    {
     "data": {
      "text/plain": [
       "(array([ 46., 143., 127.,  91.,  46.,  36.,  17.,   9.,   4.,  10.]),\n",
       " array([ 0.95786782,  2.01466511,  3.0714624 ,  4.12825969,  5.18505698,\n",
       "         6.24185426,  7.29865155,  8.35544884,  9.41224613, 10.46904342,\n",
       "        11.52584071]),\n",
       " <BarContainer object of 10 artists>)"
      ]
     },
     "execution_count": 15,
     "metadata": {},
     "output_type": "execute_result"
    },
    {
     "data": {
      "image/png": "[encoded data removed]",
      "text/plain": [
       "<Figure size 640x480 with 1 Axes>"
      ]
     },
     "metadata": {},
     "output_type": "display_data"
    }
   ],
   "source": [
    "n = y_est.shape[0]\n",
    "forecast_mape = []\n",
    "for i in range(n):\n",
    "    y_test_original = scaler.inverse_transform(y_test[i-1])\n",
    "    y_est_final = scaler.inverse_transform(y_est[i-1])\n",
    "    mape = mean_absolute_percentage_error(y_test_original,y_est_final) * 100\n",
    "    forecast_mape.append(mape)\n",
    "plt.hist(forecast_mape)"
   ]
  },
  {
   "cell_type": "code",
   "execution_count": 16,
   "id": "894d91de-5fc6-46d6-9183-34781f20eb24",
   "metadata": {
    "tags": []
   },
   "outputs": [
    {
     "name": "stdout",
     "output_type": "stream",
     "text": [
      "         MAPE (%)\n",
      "count  529.000000\n",
      "mean     4.101555\n",
      "std      2.026461\n",
      "min      0.957868\n",
      "25%      2.603531\n",
      "50%      3.627659\n",
      "75%      5.028166\n",
      "max     11.525841\n"
     ]
    }
   ],
   "source": [
    "\n",
    "#DataFrame from the MAPE values\n",
    "mape_df = pd.DataFrame(forecast_mape, columns=['MAPE (%)'])\n",
    "\n",
    "# Display the DataFrame\n",
    "print(mape_df.describe()) "
   ]
  },
  {
   "cell_type": "code",
   "execution_count": 17,
   "id": "4ba3a4ff-648b-4eb6-a444-2139e836a5ca",
   "metadata": {},
   "outputs": [],
   "source": [
    "mape_df.to_csv('mape_modelo01sinvariables_verano100.csv', index = False)"
   ]
  },
  {
   "cell_type": "markdown",
   "id": "bf87cb75",
   "metadata": {
    "heading_collapsed": true
   },
   "source": [
    "## 7.   Guardado de modelo"
   ]
  },
  {
   "cell_type": "code",
   "execution_count": 18,
   "id": "2faa8650",
   "metadata": {
    "hidden": true
   },
   "outputs": [],
   "source": [
    "modelo.save('./outputs/MODEL/modelo_I.h5')"
   ]
  },
  {
   "cell_type": "markdown",
   "id": "1d7dc08d",
   "metadata": {
    "hidden": true
   },
   "source": [
    "<summary>\n",
    "    <font size=\"4\" color=\"gray\"> Maestría en Ciencia de Datos | Universidad de Sonora </font>\n",
    "</summary>\n",
    "<font size=\"1\" color=\"gray\"> Blvd. Luis Encinas y Rosales s/n Col. Centro. Edificio 3K1 planta baja C.P. 83000, Hermosillo, Sonora, México </font>\n",
    "<font size=\"1\" color=\"gray\"> mcd@unison.mx </font>\n",
    "<font size=\"1\" color=\"gray\"> Tel: +52 (662) 259 2155  </font>"
   ]
  }
 ],
 "metadata": {
  "hide_input": false,
  "kernelspec": {
   "display_name": "energia",
   "language": "python",
   "name": "energia"
  },
  "language_info": {
   "codemirror_mode": {
    "name": "ipython",
    "version": 3
   },
   "file_extension": ".py",
   "mimetype": "text/x-python",
   "name": "python",
   "nbconvert_exporter": "python",
   "pygments_lexer": "ipython3",
   "version": "3.10.9"
  },
  "vscode": {
   "interpreter": {
    "hash": "e46e305cb1b2e9023b322cb83f073976ae87c5c5e6ccde536e6571681080371c"
   }
  }
 },
 "nbformat": 4,
 "nbformat_minor": 5
}
