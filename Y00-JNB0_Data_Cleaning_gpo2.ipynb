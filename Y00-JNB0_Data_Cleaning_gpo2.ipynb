{
 "cells": [
  {
   "cell_type": "markdown",
   "metadata": {},
   "source": [
    "<summary>\n",
    "    <font size=\"5\" color=\"gray\"><b> CONVENIO CENACE-UNISON 2023-2025\n",
    " </b></font>\n",
    "</summary><br>\n",
    "<summary>\n",
    "    <font size=\"4\" color=\"orange\"><b> DESARROLLO DE PROTOTIPO: METODOLOGÍA CON APRENDIZAJE PROFUNDO PARA EL PRONÓSTICO A CORTO PLAZO DE DEMANDA DE ENERGÍA CON DATOS EN ADELANTO.\n",
    " </b></font>\n",
    "</summary>\n",
    "\n",
    "---\n",
    "\n",
    "<summary>\n",
    "    <font size=\"8\" color=\"gray\"><b> Libreta JNB0: Preprocesamiento\n",
    " </b></font>\n",
    "</summary>\n",
    "\n",
    "---\n",
    "    \n",
    "OLIVIA CAROLINA GUTÚ OCAMPO\n",
    "\n",
    "REYNA YANET HERNÁNDEZ MADA\n",
    "\n",
    "JULIO WAISSMAN VILANOVA (Responsable del proyecto)\n",
    "\n",
    "\n",
    "---\n",
    "\n",
    "\n",
    "<summary>\n",
    "    <font size=\"4\" color=\"orange\"><b> INPUTS\n",
    " </b></font>\n",
    "</summary>\n",
    "\n",
    "<summary>\n",
    "    <font size=\"2\" color=\"gray\"><b> Dataset 2:\n",
    " </b></font>\n",
    "</summary>\n",
    "\n",
    "\n",
    "\n",
    "    \n",
    "Fuente Meteomatics (modelo MIX)\n",
    "1. Fecha en formato yyyy-mm-dd 00:00, desde 2010-01-01 a 2023-09-05.\n",
    "2. 7 variables meteorológicas (◦C mm/h), datos reales-estimados por cada ciudad de la\n",
    "zona de gerencia del noroeste por cada hora del día compuesta por zona de carga, a saber,\n",
    "Caborca, Nogales, Hermosillo, Guaymas, Cd. Obregón, Navojoa, Los Mochis, Guasave, Culiacán\n",
    "y Mazatlán.\n",
    "\n",
    "Fuente CENACE\n",
    "* Fecha en formato yyy-mm-dd hh:00:00, desde 2010-01-01 a la fecha de actualización.\n",
    "\n",
    "* 24 variables de demanda de energía (MW), datos reales-medidos de la demanda de carga de energía eléctrica en la Zona de Gerencia del Noroeste por cada hora del día compuesta por zonas de carga, a saber, Caborca, Nogales, Hermosillo, Guaymas, Cd. Obregón, Navojoa, Los Mochis, Guasave, Culiacán y Mazatlán, cargas fuera del consumo de las zonas de carga descritas anteriormente, el consumo de las centrales y las pérdidas de energía que existen en la red.\n",
    "\n",
    "* 10 variables de calendario: lunes festivo, lunes después de festivo, Semana Santa, 1.° de mayo, 10 de mayo, 16 de septiembre, 2 de noviembre, día antes de Navidad o Año Nuevo, Navidad o Año Nuevo, día después de Navidad o Año Nuevo. \n",
    "\n",
    "\n",
    "--- \n",
    "<summary>\n",
    "    <font size=\"4\" color=\"orange\"><b> CHECK POINTS\n",
    " </b></font>\n",
    "</summary>\n",
    "\n",
    "\n",
    "* Antes de exportar el dataset normalizado se verifica que no tenga valores faltantes.\n",
    "\n",
    "---\n",
    "<summary>\n",
    "    <font size=\"4\" color=\"orange\"><b> OUTPUTS (INTERNAL INPUTS)\n",
    " </b></font>\n",
    "</summary>\n",
    "\n",
    "Archivo .csv de serie de tiempo exportado al path **'./Reporte_partedos/internal_inputs/GCRNO_complete_silver_[fecha_de_hoy].csv'** (entrada de la libreta YOO-JNB1) con índice **Date_time** y features:\n",
    "\n",
    "\n",
    "* **Energy_Demand**\n",
    "\n",
    "* **Hour**\n",
    "\n",
    "* **Day**\n",
    "\n",
    "* **Month**\n",
    "\n",
    "* **Temperature_Ca**\t\n",
    "* **Perceived_Temperature_Ca**\t\n",
    "* **Precipitation_Ca**\t\n",
    "* **Humidity_Ca**\t\n",
    "* **Wind_Velocity_Ca**\t\n",
    "* **Solar_Radiation_Ca**\t\n",
    "* **Cloudiness_Ca**\t\n",
    "* **Temperature_Cul**\t\n",
    "* **Perceived_Temperature_Cul**\t\n",
    "* **Precipitation_Cul**\t\n",
    "* **Humidity_Cul**\t\n",
    "* **Wind_Velocity_Cul**\t\n",
    "* **Solar_Radiation_Cul**\t\n",
    "* **Cloudiness_Cul**\t\n",
    "* **Temperature_Guas**\t\n",
    "* **Perceived_Temperature_Guas**\t\n",
    "* **Precipitation_Guas**\t\n",
    "* **Humidity_Guas**\t\n",
    "* **Wind_Velocity_Guas**\t\n",
    "* **Solar_Radiation_Guas**\t\n",
    "* **Cloudiness_Guas\tTemperature_Guay**\t\n",
    "* **Perceived_Temperature_Guay**\t\n",
    "* **Precipitation_Guay**\t\n",
    "* **Humidity_Guay**\t\n",
    "* **Wind_Velocity_Guay**\t\n",
    "* **Solar_Radiation_Guay**\t\n",
    "* **Cloudiness_Guay**\t\n",
    "* **Temperature_Herm**\t\n",
    "* **Perceived_Temperature_Herm**\t\n",
    "* **Precipitation_Herm**\t\n",
    "* **Humidity_Herm**\t\n",
    "* **Wind_Velocity_Herm**\t\n",
    "* **Solar_Radiation_Herm**\t\n",
    "* **Cloudiness_Herm**\t\n",
    "* **Temperature_Maz**\t\n",
    "* **Perceived_Temperature_Maz**\t\n",
    "* **Precipitation_Maz**\t\n",
    "* **Humidity_Maz**\t\n",
    "* **Wind_Velocity_Maz**\t\n",
    "* **Solar_Radiation_Maz**\t\n",
    "* **Cloudiness_Maz**\t\n",
    "* **Temperature_Moch**\t\n",
    "* **Perceived_Temperature_Moch**\t\n",
    "* **Precipitation_Moch**\t\n",
    "* **Humidity_Moch**\t\n",
    "* **Wind_Velocity_Moch**\t\n",
    "* **Solar_Radiation_Moch**\t\n",
    "* **Cloudiness_Moch**\t\n",
    "* **Temperature_Nav**\t\n",
    "* **Perceived_Temperature_Nav**\t\n",
    "* **Precipitation_Nav**\t\n",
    "* **Humidity_Nav**\t\n",
    "* **Wind_Velocity_Nav**\t\n",
    "* **Solar_Radiation_Nav**\t\n",
    "* **Cloudiness_Nav**\t\n",
    "* **Temperature_Nog**\t\n",
    "* **Perceived_Temperature_Nog**\t\n",
    "* **Precipitation_Nog**\t\n",
    "* **Humidity_Nog**\t\n",
    "* **Wind_Velocity_Nog**\t\n",
    "* **Solar_Radiation_Nog**\t\n",
    "* **Cloudiness_Nog**\t\n",
    "* **Temperature_Obr**\t\n",
    "* **Perceived_Temperature_Obr**\t\n",
    "* **Precipitation_Obr**\t\n",
    "* **Humidity_Obr**\t\n",
    "* **Wind_Velocity_Obr**\t\n",
    "* **Solar_Radiation_Obr**\t\n",
    "* **Cloudiness_Obr**\t\n",
    "* **Monday_Holiday**\t\n",
    "* **Tuesday_Aft_Hol**\t\n",
    "* **Easter_week\tMay_1s**\t\n",
    "* **May_10t\tSept_16**\t\n",
    "* **Nov_2nd**\t\n",
    "* **Before_Christmas_NY**\t\n",
    "* **Christmas_NY**\t\n",
    "\n",
    "* **After_Christmas_NY**"
   ]
  },
  {
   "cell_type": "markdown",
   "metadata": {
    "heading_collapsed": true
   },
   "source": [
    "## 1. Importar librerias"
   ]
  },
  {
   "cell_type": "code",
   "execution_count": 1,
   "metadata": {
    "hidden": true,
    "tags": []
   },
   "outputs": [],
   "source": [
    "# Do not print warnings\n",
    "import warnings\n",
    "warnings.filterwarnings('ignore')\n",
    "\n",
    "# Basic libraries\n",
    "import numpy as np\n",
    "import pandas as pd\n",
    "import matplotlib.pyplot as plt\n",
    "\n",
    "#Auxiliar libraries\n",
    "import os\n",
    "from datetime import date\n",
    "from pathlib import Path\n",
    "\n",
    "import glob\n",
    "import os"
   ]
  },
  {
   "cell_type": "markdown",
   "metadata": {
    "heading_collapsed": true
   },
   "source": [
    "## 2. Descargar conjunto de datos sin procesar y unir dataframes"
   ]
  },
  {
   "cell_type": "code",
   "execution_count": 2,
   "metadata": {
    "tags": []
   },
   "outputs": [
    {
     "name": "stdout",
     "output_type": "stream",
     "text": [
      "/LUSTRE/home/ryhernandez/MODEL3/HOURLY/HOURLY_MODELO_M3_DATASET_\n"
     ]
    }
   ],
   "source": [
    "dfg = os.getcwd()\n",
    "print(dfg)"
   ]
  },
  {
   "cell_type": "code",
   "execution_count": 3,
   "metadata": {
    "tags": []
   },
   "outputs": [],
   "source": [
    "!python './inputs/0905/rename_gpo2.py' #rename city files py"
   ]
  },
  {
   "cell_type": "code",
   "execution_count": 4,
   "metadata": {
    "tags": []
   },
   "outputs": [
    {
     "name": "stdout",
     "output_type": "stream",
     "text": [
      "CSV files found:\n",
      "./inputs/0905/Cul_20230905.csv\n",
      "./inputs/0905/Guay_20230905.csv\n",
      "./inputs/0905/Nog_20230905.csv\n",
      "./inputs/0905/Herm_20230905.csv\n",
      "./inputs/0905/GCRNODEMANDAHORARIO20230905.csv\n",
      "./inputs/0905/Guas_20230905.csv\n",
      "./inputs/0905/Obr_20230905.csv\n",
      "./inputs/0905/Nav_20230905.csv\n",
      "./inputs/0905/Maz_20230905.csv\n",
      "./inputs/0905/Cab_20230905.csv\n",
      "./inputs/0905/Moch_20230905.csv\n"
     ]
    }
   ],
   "source": [
    "directory_path = './inputs/0905/'\n",
    "search_pattern = os.path.join(directory_path, '*.csv')\n",
    "\n",
    "csv_files = glob.glob(search_pattern)\n",
    "\n",
    "print(\"CSV files found:\")\n",
    "for file in csv_files:\n",
    "    print(file)\n"
   ]
  },
  {
   "cell_type": "code",
   "execution_count": 5,
   "metadata": {
    "tags": []
   },
   "outputs": [
    {
     "data": {
      "text/html": [
       "<div>\n",
       "<style scoped>\n",
       "    .dataframe tbody tr th:only-of-type {\n",
       "        vertical-align: middle;\n",
       "    }\n",
       "\n",
       "    .dataframe tbody tr th {\n",
       "        vertical-align: top;\n",
       "    }\n",
       "\n",
       "    .dataframe thead th {\n",
       "        text-align: right;\n",
       "    }\n",
       "</style>\n",
       "<table border=\"1\" class=\"dataframe\">\n",
       "  <thead>\n",
       "    <tr style=\"text-align: right;\">\n",
       "      <th></th>\n",
       "      <th>Date</th>\n",
       "      <th>Hour</th>\n",
       "      <th>Zone</th>\n",
       "      <th>Energy_Demand</th>\n",
       "    </tr>\n",
       "  </thead>\n",
       "  <tbody>\n",
       "    <tr>\n",
       "      <th>119902</th>\n",
       "      <td>05/09/2023</td>\n",
       "      <td>23</td>\n",
       "      <td>GERENCIA</td>\n",
       "      <td>5229.98</td>\n",
       "    </tr>\n",
       "    <tr>\n",
       "      <th>119903</th>\n",
       "      <td>05/09/2023</td>\n",
       "      <td>24</td>\n",
       "      <td>GERENCIA</td>\n",
       "      <td>5092.62</td>\n",
       "    </tr>\n",
       "  </tbody>\n",
       "</table>\n",
       "</div>"
      ],
      "text/plain": [
       "              Date  Hour      Zone  Energy_Demand\n",
       "119902  05/09/2023    23  GERENCIA        5229.98\n",
       "119903  05/09/2023    24  GERENCIA        5092.62"
      ]
     },
     "execution_count": 5,
     "metadata": {},
     "output_type": "execute_result"
    }
   ],
   "source": [
    "deman_td = pd.read_csv('./inputs/0905/GCRNODEMANDAHORARIO20230905.csv', delimiter=\",\")\n",
    "deman_td.rename(columns={\"Hora\":\"Hour\",\"Demand\":\"Energy_Demand\"}, inplace = True)\n",
    "deman_td.tail(2)"
   ]
  },
  {
   "cell_type": "code",
   "execution_count": 6,
   "metadata": {
    "tags": []
   },
   "outputs": [
    {
     "data": {
      "text/html": [
       "<div>\n",
       "<style scoped>\n",
       "    .dataframe tbody tr th:only-of-type {\n",
       "        vertical-align: middle;\n",
       "    }\n",
       "\n",
       "    .dataframe tbody tr th {\n",
       "        vertical-align: top;\n",
       "    }\n",
       "\n",
       "    .dataframe thead th {\n",
       "        text-align: right;\n",
       "    }\n",
       "</style>\n",
       "<table border=\"1\" class=\"dataframe\">\n",
       "  <thead>\n",
       "    <tr style=\"text-align: right;\">\n",
       "      <th></th>\n",
       "      <th>Date</th>\n",
       "      <th>Hour</th>\n",
       "      <th>Zone</th>\n",
       "      <th>Energy_Demand</th>\n",
       "      <th>Date_time</th>\n",
       "    </tr>\n",
       "  </thead>\n",
       "  <tbody>\n",
       "    <tr>\n",
       "      <th>0</th>\n",
       "      <td>2010-01-01</td>\n",
       "      <td>0</td>\n",
       "      <td>GERENCIA</td>\n",
       "      <td>1329.0</td>\n",
       "      <td>2010-01-01 00:00:00</td>\n",
       "    </tr>\n",
       "    <tr>\n",
       "      <th>1</th>\n",
       "      <td>2010-01-01</td>\n",
       "      <td>1</td>\n",
       "      <td>GERENCIA</td>\n",
       "      <td>1279.0</td>\n",
       "      <td>2010-01-01 01:00:00</td>\n",
       "    </tr>\n",
       "  </tbody>\n",
       "</table>\n",
       "</div>"
      ],
      "text/plain": [
       "        Date  Hour      Zone  Energy_Demand           Date_time\n",
       "0 2010-01-01     0  GERENCIA         1329.0 2010-01-01 00:00:00\n",
       "1 2010-01-01     1  GERENCIA         1279.0 2010-01-01 01:00:00"
      ]
     },
     "execution_count": 6,
     "metadata": {},
     "output_type": "execute_result"
    }
   ],
   "source": [
    "#Adjusting hours\n",
    "\n",
    "deman_td['Hour']= deman_td['Hour']-1\n",
    "deman_td['Date'] =  pd.to_datetime(deman_td['Date'], format='%d/%m/%Y') #correct datatype\n",
    "deman_td['Date_time'] = deman_td.Date + pd.to_timedelta(deman_td.Hour, unit='h')\n",
    "\n",
    "deman_td.head(2)"
   ]
  },
  {
   "cell_type": "code",
   "execution_count": 7,
   "metadata": {
    "tags": []
   },
   "outputs": [],
   "source": [
    "# Creating Day, Hour and Month columns\n",
    "deman_td.index = deman_td.Date + pd.to_timedelta(deman_td.Hour, unit='h')\n",
    "deman_td.sort_index(inplace=True)\n",
    "deman_td.drop(columns=['Hour'], inplace=True)\n",
    "deman_td = deman_td.asfreq('h', method='pad')\n",
    "deman_td['Date_time'] = deman_td.index\n",
    "deman_td[\"Hour\"] = deman_td.index.hour\n",
    "deman_td['Day'] = deman_td.index.weekday\n",
    "deman_td[\"Month\"] = deman_td.index.month\n",
    "deman_td.sort_index(inplace=True)"
   ]
  },
  {
   "cell_type": "code",
   "execution_count": 8,
   "metadata": {
    "tags": []
   },
   "outputs": [
    {
     "name": "stdout",
     "output_type": "stream",
     "text": [
      "/LUSTRE/home/ryhernandez/MODEL3/HOURLY/HOURLY_MODELO_M3_DATASET_\n"
     ]
    }
   ],
   "source": [
    "#os.chdir('./inputs') \n",
    "print(os.getcwd())\n"
   ]
  },
  {
   "cell_type": "code",
   "execution_count": 9,
   "metadata": {
    "tags": []
   },
   "outputs": [],
   "source": [
    "#importing city files to each df\n",
    "df_cab = pd.read_csv('./inputs/0905/Cab_20230905.csv',encoding='latin-1')\n",
    "df_cul = pd.read_csv('./inputs/0905/Cul_20230905.csv', encoding='latin-1')\n",
    "df_guas = pd.read_csv('./inputs/0905/Guas_20230905.csv', encoding='latin-1')\n",
    "df_guay = pd.read_csv('./inputs/0905/Guay_20230905.csv', encoding='latin-1')\n",
    "df_herm = pd.read_csv('./inputs/0905/Herm_20230905.csv', encoding='latin-1')\n",
    "df_maz = pd.read_csv('./inputs/0905/Maz_20230905.csv', encoding='latin-1')\n",
    "df_moch = pd.read_csv('./inputs/0905/Moch_20230905.csv', encoding='latin-1')\n",
    "df_nav = pd.read_csv('./inputs/0905/Nav_20230905.csv', encoding='latin-1')\n",
    "df_nog = pd.read_csv('./inputs/0905/Nog_20230905.csv', encoding='latin-1')\n",
    "df_obr = pd.read_csv('./inputs/0905/Obr_20230905.csv', encoding='latin-1')\n"
   ]
  },
  {
   "cell_type": "code",
   "execution_count": 10,
   "metadata": {
    "tags": []
   },
   "outputs": [
    {
     "name": "stdout",
     "output_type": "stream",
     "text": [
      "Dataframe 1 shape: (119904, 15)\n",
      "Dataframe 2 shape: (119904, 15)\n",
      "Dataframe 3 shape: (119904, 15)\n",
      "Dataframe 4 shape: (119904, 15)\n",
      "Dataframe 5 shape: (119904, 15)\n",
      "Dataframe 6 shape: (119904, 15)\n",
      "Dataframe 7 shape: (119904, 15)\n",
      "Dataframe 8 shape: (119904, 15)\n",
      "Dataframe 9 shape: (119904, 15)\n",
      "Dataframe 10 shape: (119904, 15)\n"
     ]
    }
   ],
   "source": [
    "#df lista\n",
    "data_frames = [df_cab, df_cul, df_guas, df_guay, df_herm , df_maz, df_moch, df_nav, df_nog , df_obr]\n",
    "\n",
    "# Loop df para corrobrar forma es equivalente  en cada columna-ciudad\n",
    "for i, df in enumerate(data_frames):\n",
    "    print(f\"Dataframe {i+1} shape: {df.shape}\")"
   ]
  },
  {
   "cell_type": "code",
   "execution_count": 11,
   "metadata": {
    "tags": []
   },
   "outputs": [],
   "source": [
    "# Loop en DF para  ajustar Horas a 0 - 23\n",
    "column_name = ' hora'\n",
    "substract_num = 1\n",
    "for i, df in enumerate(data_frames):\n",
    "     df[column_name] = df[column_name] - substract_num\n"
   ]
  },
  {
   "cell_type": "code",
   "execution_count": 12,
   "metadata": {
    "tags": []
   },
   "outputs": [
    {
     "data": {
      "text/plain": [
       "array(['Caborca PPA'], dtype=object)"
      ]
     },
     "execution_count": 12,
     "metadata": {},
     "output_type": "execute_result"
    }
   ],
   "source": [
    "df_cab[' estacion'].unique() #verificar valores de columna, para eliminar"
   ]
  },
  {
   "cell_type": "code",
   "execution_count": 13,
   "metadata": {
    "tags": []
   },
   "outputs": [],
   "source": [
    "\"\"\"\" Function to update columns\"\"\"\n",
    "\n",
    "def drop(name): #eliminar columns no usadas\n",
    "    name.drop(['gerencia',' estacion', ' api'], axis=1, inplace=True)\n",
    "    name.head(2)\n",
    "\n",
    "def change_names(name): # renombrar\n",
    "    cnames = ['City','Year','Month','Date','Hour','Temperature',\n",
    "              'Perceived_Temperature','Precipitation','Humidity',\n",
    "              'Wind_Velocity','Solar_Radiation','Cloudiness']\n",
    "    name.set_axis(cnames, axis = 1,  inplace = True)    \n",
    "\n",
    "def upd_names(name,suf): # establecer sufijo de ciudad \n",
    "    name.columns = name.columns.map(lambda x : x + suf)\n",
    "\n",
    "def main_update(name, suf): # main \n",
    "    drop(name)\n",
    "    change_names(name)\n",
    "    upd_names(name,suf)\n",
    "    name.columns"
   ]
  },
  {
   "cell_type": "code",
   "execution_count": 14,
   "metadata": {
    "tags": []
   },
   "outputs": [],
   "source": [
    "dataframes = {\n",
    "    \"df_cab\": \"_Ca\",\n",
    "    \"df_cul\": \"_Cul\",\n",
    "    \"df_guas\": \"_Guas\",\n",
    "    \"df_guay\": \"_Guay\",\n",
    "    \"df_herm\": \"_Herm\",\n",
    "    \"df_maz\": \"_Maz\",\n",
    "    \"df_moch\": \"_Moch\",\n",
    "    \"df_nav\": \"_Nav\",\n",
    "    \"df_nog\": \"_Nog\",\n",
    "    \"df_obr\": \"_Obr\"\n",
    "}\n",
    "\n",
    "# Mapeo de nombres de dataframes - ciudades\n",
    "df_mapping = {\n",
    "    \"df_cab\": df_cab,\n",
    "    \"df_cul\": df_cul,\n",
    "    \"df_guas\": df_guas,\n",
    "    \"df_guay\": df_guay,\n",
    "    \"df_herm\": df_herm,\n",
    "    \"df_maz\": df_maz,\n",
    "    \"df_moch\": df_moch,\n",
    "    \"df_nav\": df_nav,\n",
    "    \"df_nog\": df_nog,\n",
    "    \"df_obr\": df_obr\n",
    "}\n",
    "\n",
    "# Apliacr funcion para df de cada ciudad\n",
    "for df_name, suffix in dataframes.items():\n",
    "    main_update(df_mapping[df_name], suffix)"
   ]
  },
  {
   "cell_type": "code",
   "execution_count": 15,
   "metadata": {
    "tags": []
   },
   "outputs": [],
   "source": [
    "\n",
    "df_cab.rename(columns = {'Date_Ca':'Date', 'Hour_Ca':'Hour'}, inplace = True)\n",
    "df_herm.rename(columns = {'Date_Herm':'Date', 'Hour_Herm':'Hour'}, inplace = True)\n",
    "df_cul.rename(columns = {'Date_Cul':'Date', 'Hour_Cul':'Hour'}, inplace = True)\n",
    "df_guas.rename(columns = {'Date_Guas':'Date', 'Hour_Guas':'Hour'}, inplace = True)\n",
    "df_guay.rename(columns = {'Date_Guay':'Date', 'Hour_Guay':'Hour'}, inplace = True)\n",
    "df_maz.rename(columns = {'Date_Maz':'Date', 'Hour_Maz':'Hour'}, inplace = True)\n",
    "df_moch.rename(columns = {'Date_Moch':'Date', 'Hour_Moch':'Hour'}, inplace = True)\n",
    "df_nav.rename(columns = {'Date_Nav':'Date', 'Hour_Nav':'Hour'}, inplace = True)\n",
    "df_nog.rename(columns = {'Date_Nog':'Date', 'Hour_Nog':'Hour'}, inplace = True)\n",
    "df_obr.rename(columns = {'Date_Obr':'Date', 'Hour_Obr':'Hour'}, inplace = True)"
   ]
  },
  {
   "cell_type": "code",
   "execution_count": 16,
   "metadata": {
    "tags": []
   },
   "outputs": [],
   "source": [
    "df_hermcab = df_cab.merge(df_herm, left_on=['Date','Hour'], right_on = ['Date','Hour'], how='left')\n"
   ]
  },
  {
   "cell_type": "code",
   "execution_count": 17,
   "metadata": {
    "tags": []
   },
   "outputs": [
    {
     "data": {
      "text/html": [
       "<div>\n",
       "<style scoped>\n",
       "    .dataframe tbody tr th:only-of-type {\n",
       "        vertical-align: middle;\n",
       "    }\n",
       "\n",
       "    .dataframe tbody tr th {\n",
       "        vertical-align: top;\n",
       "    }\n",
       "\n",
       "    .dataframe thead th {\n",
       "        text-align: right;\n",
       "    }\n",
       "</style>\n",
       "<table border=\"1\" class=\"dataframe\">\n",
       "  <thead>\n",
       "    <tr style=\"text-align: right;\">\n",
       "      <th></th>\n",
       "      <th>Date</th>\n",
       "      <th>Hour</th>\n",
       "      <th>City_Cul</th>\n",
       "      <th>Year_Cul</th>\n",
       "      <th>Month_Cul</th>\n",
       "      <th>Temperature_Cul</th>\n",
       "      <th>Perceived_Temperature_Cul</th>\n",
       "      <th>Precipitation_Cul</th>\n",
       "      <th>Humidity_Cul</th>\n",
       "      <th>Wind_Velocity_Cul</th>\n",
       "      <th>...</th>\n",
       "      <th>City_Herm</th>\n",
       "      <th>Year_Herm</th>\n",
       "      <th>Month_Herm</th>\n",
       "      <th>Temperature_Herm</th>\n",
       "      <th>Perceived_Temperature_Herm</th>\n",
       "      <th>Precipitation_Herm</th>\n",
       "      <th>Humidity_Herm</th>\n",
       "      <th>Wind_Velocity_Herm</th>\n",
       "      <th>Solar_Radiation_Herm</th>\n",
       "      <th>Cloudiness_Herm</th>\n",
       "    </tr>\n",
       "  </thead>\n",
       "  <tbody>\n",
       "    <tr>\n",
       "      <th>0</th>\n",
       "      <td>01/01/2010</td>\n",
       "      <td>0</td>\n",
       "      <td>Culiacan</td>\n",
       "      <td>2010</td>\n",
       "      <td>enero</td>\n",
       "      <td>16.5</td>\n",
       "      <td>17.0</td>\n",
       "      <td>0.0</td>\n",
       "      <td>76.3</td>\n",
       "      <td>1.3</td>\n",
       "      <td>...</td>\n",
       "      <td>Hermosillo</td>\n",
       "      <td>2010</td>\n",
       "      <td>enero</td>\n",
       "      <td>12.5</td>\n",
       "      <td>11.6</td>\n",
       "      <td>0.0</td>\n",
       "      <td>48.1</td>\n",
       "      <td>3.0</td>\n",
       "      <td>0.0</td>\n",
       "      <td>0.0</td>\n",
       "    </tr>\n",
       "    <tr>\n",
       "      <th>1</th>\n",
       "      <td>01/01/2010</td>\n",
       "      <td>1</td>\n",
       "      <td>Culiacan</td>\n",
       "      <td>2010</td>\n",
       "      <td>enero</td>\n",
       "      <td>13.3</td>\n",
       "      <td>13.7</td>\n",
       "      <td>0.0</td>\n",
       "      <td>82.3</td>\n",
       "      <td>1.2</td>\n",
       "      <td>...</td>\n",
       "      <td>Hermosillo</td>\n",
       "      <td>2010</td>\n",
       "      <td>enero</td>\n",
       "      <td>11.3</td>\n",
       "      <td>10.8</td>\n",
       "      <td>0.0</td>\n",
       "      <td>50.6</td>\n",
       "      <td>3.0</td>\n",
       "      <td>0.0</td>\n",
       "      <td>0.0</td>\n",
       "    </tr>\n",
       "    <tr>\n",
       "      <th>2</th>\n",
       "      <td>01/01/2010</td>\n",
       "      <td>2</td>\n",
       "      <td>Culiacan</td>\n",
       "      <td>2010</td>\n",
       "      <td>enero</td>\n",
       "      <td>13.0</td>\n",
       "      <td>13.4</td>\n",
       "      <td>0.0</td>\n",
       "      <td>85.8</td>\n",
       "      <td>1.5</td>\n",
       "      <td>...</td>\n",
       "      <td>Hermosillo</td>\n",
       "      <td>2010</td>\n",
       "      <td>enero</td>\n",
       "      <td>10.7</td>\n",
       "      <td>10.5</td>\n",
       "      <td>0.0</td>\n",
       "      <td>55.6</td>\n",
       "      <td>3.1</td>\n",
       "      <td>0.0</td>\n",
       "      <td>0.0</td>\n",
       "    </tr>\n",
       "  </tbody>\n",
       "</table>\n",
       "<p>3 rows × 22 columns</p>\n",
       "</div>"
      ],
      "text/plain": [
       "         Date  Hour  City_Cul  Year_Cul Month_Cul  Temperature_Cul  \\\n",
       "0  01/01/2010     0  Culiacan      2010     enero             16.5   \n",
       "1  01/01/2010     1  Culiacan      2010     enero             13.3   \n",
       "2  01/01/2010     2  Culiacan      2010     enero             13.0   \n",
       "\n",
       "   Perceived_Temperature_Cul  Precipitation_Cul  Humidity_Cul  \\\n",
       "0                       17.0                0.0          76.3   \n",
       "1                       13.7                0.0          82.3   \n",
       "2                       13.4                0.0          85.8   \n",
       "\n",
       "   Wind_Velocity_Cul  ...   City_Herm  Year_Herm Month_Herm  Temperature_Herm  \\\n",
       "0                1.3  ...  Hermosillo       2010      enero              12.5   \n",
       "1                1.2  ...  Hermosillo       2010      enero              11.3   \n",
       "2                1.5  ...  Hermosillo       2010      enero              10.7   \n",
       "\n",
       "  Perceived_Temperature_Herm  Precipitation_Herm  Humidity_Herm  \\\n",
       "0                       11.6                 0.0           48.1   \n",
       "1                       10.8                 0.0           50.6   \n",
       "2                       10.5                 0.0           55.6   \n",
       "\n",
       "   Wind_Velocity_Herm  Solar_Radiation_Herm  Cloudiness_Herm  \n",
       "0                 3.0                   0.0              0.0  \n",
       "1                 3.0                   0.0              0.0  \n",
       "2                 3.1                   0.0              0.0  \n",
       "\n",
       "[3 rows x 22 columns]"
      ]
     },
     "execution_count": 17,
     "metadata": {},
     "output_type": "execute_result"
    }
   ],
   "source": [
    "dfs = (df_cul.set_index(['Date','Hour'])) #first df and set key columns as indx for new dataframe\n",
    "dfs = pd.merge(dfs, df_herm,  how='left', left_on=['Date','Hour'], right_on=['Date','Hour'] ) #merge by Date Hour\n",
    "dfs.head(3)"
   ]
  },
  {
   "cell_type": "code",
   "execution_count": 18,
   "metadata": {
    "tags": []
   },
   "outputs": [
    {
     "data": {
      "text/plain": [
       "(119904, 102)"
      ]
     },
     "execution_count": 18,
     "metadata": {},
     "output_type": "execute_result"
    }
   ],
   "source": [
    "from functools import reduce\n",
    "pdlist2 = [df_cab,df_cul, df_guas, df_guay, df_herm, df_maz,df_moch,df_nav,df_nog,df_obr ]\n",
    "df_ = reduce(lambda dfs,df_guas: pd.merge(dfs,df_guas,on=['Date','Hour']), pdlist2)\n",
    "df_.shape"
   ]
  },
  {
   "cell_type": "code",
   "execution_count": 19,
   "metadata": {
    "tags": []
   },
   "outputs": [],
   "source": [
    "df_['Date'] = pd.to_datetime(df_['Date'], format='%d/%m/%Y')"
   ]
  },
  {
   "cell_type": "code",
   "execution_count": 20,
   "metadata": {
    "hidden": true,
    "tags": []
   },
   "outputs": [
    {
     "data": {
      "text/html": [
       "<div>\n",
       "<style scoped>\n",
       "    .dataframe tbody tr th:only-of-type {\n",
       "        vertical-align: middle;\n",
       "    }\n",
       "\n",
       "    .dataframe tbody tr th {\n",
       "        vertical-align: top;\n",
       "    }\n",
       "\n",
       "    .dataframe thead th {\n",
       "        text-align: right;\n",
       "    }\n",
       "</style>\n",
       "<table border=\"1\" class=\"dataframe\">\n",
       "  <thead>\n",
       "    <tr style=\"text-align: right;\">\n",
       "      <th></th>\n",
       "      <th>Date</th>\n",
       "      <th>Hora</th>\n",
       "      <th>Zone</th>\n",
       "      <th>Demand</th>\n",
       "    </tr>\n",
       "  </thead>\n",
       "  <tbody>\n",
       "    <tr>\n",
       "      <th>119902</th>\n",
       "      <td>05/09/2023</td>\n",
       "      <td>23</td>\n",
       "      <td>GERENCIA</td>\n",
       "      <td>5229.98</td>\n",
       "    </tr>\n",
       "    <tr>\n",
       "      <th>119903</th>\n",
       "      <td>05/09/2023</td>\n",
       "      <td>24</td>\n",
       "      <td>GERENCIA</td>\n",
       "      <td>5092.62</td>\n",
       "    </tr>\n",
       "  </tbody>\n",
       "</table>\n",
       "</div>"
      ],
      "text/plain": [
       "              Date  Hora      Zone   Demand\n",
       "119902  05/09/2023    23  GERENCIA  5229.98\n",
       "119903  05/09/2023    24  GERENCIA  5092.62"
      ]
     },
     "execution_count": 20,
     "metadata": {},
     "output_type": "execute_result"
    }
   ],
   "source": [
    "#Archivo de energia\n",
    "#\n",
    "deman_td = pd.read_csv('./inputs/0905/GCRNODEMANDAHORARIO20230905.csv', delimiter=\",\")\n",
    "deman_td.tail(2)\n"
   ]
  },
  {
   "cell_type": "code",
   "execution_count": 21,
   "metadata": {
    "tags": []
   },
   "outputs": [
    {
     "data": {
      "text/plain": [
       "Date      0\n",
       "Hora      0\n",
       "Zone      0\n",
       "Demand    0\n",
       "dtype: int64"
      ]
     },
     "execution_count": 21,
     "metadata": {},
     "output_type": "execute_result"
    }
   ],
   "source": [
    "deman_td.isnull().sum() # check for null values"
   ]
  },
  {
   "cell_type": "code",
   "execution_count": 22,
   "metadata": {
    "tags": []
   },
   "outputs": [
    {
     "data": {
      "text/html": [
       "<div>\n",
       "<style scoped>\n",
       "    .dataframe tbody tr th:only-of-type {\n",
       "        vertical-align: middle;\n",
       "    }\n",
       "\n",
       "    .dataframe tbody tr th {\n",
       "        vertical-align: top;\n",
       "    }\n",
       "\n",
       "    .dataframe thead th {\n",
       "        text-align: right;\n",
       "    }\n",
       "</style>\n",
       "<table border=\"1\" class=\"dataframe\">\n",
       "  <thead>\n",
       "    <tr style=\"text-align: right;\">\n",
       "      <th></th>\n",
       "      <th>Date</th>\n",
       "      <th>Hour</th>\n",
       "      <th>Zone</th>\n",
       "      <th>Energy_Demand</th>\n",
       "    </tr>\n",
       "  </thead>\n",
       "  <tbody>\n",
       "    <tr>\n",
       "      <th>0</th>\n",
       "      <td>01/01/2010</td>\n",
       "      <td>1</td>\n",
       "      <td>GERENCIA</td>\n",
       "      <td>1329.0</td>\n",
       "    </tr>\n",
       "    <tr>\n",
       "      <th>1</th>\n",
       "      <td>01/01/2010</td>\n",
       "      <td>2</td>\n",
       "      <td>GERENCIA</td>\n",
       "      <td>1279.0</td>\n",
       "    </tr>\n",
       "  </tbody>\n",
       "</table>\n",
       "</div>"
      ],
      "text/plain": [
       "         Date  Hour      Zone  Energy_Demand\n",
       "0  01/01/2010     1  GERENCIA         1329.0\n",
       "1  01/01/2010     2  GERENCIA         1279.0"
      ]
     },
     "execution_count": 22,
     "metadata": {},
     "output_type": "execute_result"
    }
   ],
   "source": [
    "deman_td.rename(columns={\"Hora\":\"Hour\",\"Demand\":\"Energy_Demand\"}, inplace = True)\n",
    "deman_td.head(2)"
   ]
  },
  {
   "cell_type": "code",
   "execution_count": 23,
   "metadata": {
    "tags": []
   },
   "outputs": [],
   "source": [
    "deman_td['Hour']= deman_td['Hour']-1\n",
    "deman_td['Date'] =  pd.to_datetime(deman_td['Date'], format='%d/%m/%Y')"
   ]
  },
  {
   "cell_type": "code",
   "execution_count": 24,
   "metadata": {
    "tags": []
   },
   "outputs": [
    {
     "name": "stdout",
     "output_type": "stream",
     "text": [
      "<class 'pandas.core.frame.DataFrame'>\n",
      "RangeIndex: 119904 entries, 0 to 119903\n",
      "Data columns (total 5 columns):\n",
      " #   Column         Non-Null Count   Dtype         \n",
      "---  ------         --------------   -----         \n",
      " 0   Date           119904 non-null  datetime64[ns]\n",
      " 1   Hour           119904 non-null  int64         \n",
      " 2   Zone           119904 non-null  object        \n",
      " 3   Energy_Demand  119904 non-null  float64       \n",
      " 4   Date_time      119904 non-null  datetime64[ns]\n",
      "dtypes: datetime64[ns](2), float64(1), int64(1), object(1)\n",
      "memory usage: 4.6+ MB\n"
     ]
    }
   ],
   "source": [
    "deman_td['Date_time'] = deman_td.Date + pd.to_timedelta(deman_td.Hour, unit='h')\n",
    "deman_td.info()"
   ]
  },
  {
   "cell_type": "code",
   "execution_count": 25,
   "metadata": {
    "tags": []
   },
   "outputs": [],
   "source": [
    "deman_td.index = deman_td.Date + pd.to_timedelta(deman_td.Hour, unit='h')\n",
    "deman_td.sort_index(inplace=True)\n",
    "deman_td.drop(columns=['Hour'], inplace=True)\n",
    "deman_td = deman_td.asfreq('h', method='pad')\n",
    "deman_td['Date_time'] = deman_td.index\n",
    "deman_td[\"Hour\"] = deman_td.index.hour\n",
    "deman_td['Day'] = deman_td.index.weekday\n",
    "deman_td[\"Month\"] = deman_td.index.month  \n",
    "deman_td.sort_index(inplace=True)\n"
   ]
  },
  {
   "cell_type": "code",
   "execution_count": 26,
   "metadata": {
    "tags": []
   },
   "outputs": [],
   "source": [
    "deman_td= deman_td.reset_index (drop=True)\n",
    "deman_td.rename(columns = {'Date_dem':'Date'}, inplace = True)\n"
   ]
  },
  {
   "cell_type": "code",
   "execution_count": 27,
   "metadata": {
    "tags": []
   },
   "outputs": [
    {
     "data": {
      "text/html": [
       "<div>\n",
       "<style scoped>\n",
       "    .dataframe tbody tr th:only-of-type {\n",
       "        vertical-align: middle;\n",
       "    }\n",
       "\n",
       "    .dataframe tbody tr th {\n",
       "        vertical-align: top;\n",
       "    }\n",
       "\n",
       "    .dataframe thead th {\n",
       "        text-align: right;\n",
       "    }\n",
       "</style>\n",
       "<table border=\"1\" class=\"dataframe\">\n",
       "  <thead>\n",
       "    <tr style=\"text-align: right;\">\n",
       "      <th></th>\n",
       "      <th>Date</th>\n",
       "      <th>Zone</th>\n",
       "      <th>Energy_Demand</th>\n",
       "      <th>Date_time</th>\n",
       "      <th>Hour</th>\n",
       "      <th>Day</th>\n",
       "      <th>Month</th>\n",
       "    </tr>\n",
       "  </thead>\n",
       "  <tbody>\n",
       "    <tr>\n",
       "      <th>24</th>\n",
       "      <td>2010-01-02</td>\n",
       "      <td>GERENCIA</td>\n",
       "      <td>1181.0</td>\n",
       "      <td>2010-01-02</td>\n",
       "      <td>0</td>\n",
       "      <td>5</td>\n",
       "      <td>1</td>\n",
       "    </tr>\n",
       "  </tbody>\n",
       "</table>\n",
       "</div>"
      ],
      "text/plain": [
       "         Date      Zone  Energy_Demand  Date_time  Hour  Day  Month\n",
       "24 2010-01-02  GERENCIA         1181.0 2010-01-02     0    5      1"
      ]
     },
     "execution_count": 27,
     "metadata": {},
     "output_type": "execute_result"
    }
   ],
   "source": [
    "#deman_td.iloc[[24]]"
   ]
  },
  {
   "cell_type": "code",
   "execution_count": 28,
   "metadata": {
    "tags": []
   },
   "outputs": [],
   "source": [
    "df_f = pd.merge(deman_td, df_,  how='left', left_on=['Date','Hour'],right_on=['Date','Hour']) #merge by Date Hour\n"
   ]
  },
  {
   "cell_type": "code",
   "execution_count": 29,
   "metadata": {
    "tags": []
   },
   "outputs": [
    {
     "data": {
      "text/html": [
       "<div>\n",
       "<style scoped>\n",
       "    .dataframe tbody tr th:only-of-type {\n",
       "        vertical-align: middle;\n",
       "    }\n",
       "\n",
       "    .dataframe tbody tr th {\n",
       "        vertical-align: top;\n",
       "    }\n",
       "\n",
       "    .dataframe thead th {\n",
       "        text-align: right;\n",
       "    }\n",
       "</style>\n",
       "<table border=\"1\" class=\"dataframe\">\n",
       "  <thead>\n",
       "    <tr style=\"text-align: right;\">\n",
       "      <th></th>\n",
       "      <th>Date</th>\n",
       "      <th>Zone</th>\n",
       "      <th>Energy_Demand</th>\n",
       "      <th>Date_time</th>\n",
       "      <th>Hour</th>\n",
       "      <th>Day</th>\n",
       "      <th>Month</th>\n",
       "      <th>Year_Ca</th>\n",
       "      <th>Month_Ca</th>\n",
       "      <th>Temperature_Ca</th>\n",
       "      <th>...</th>\n",
       "      <th>Cloudiness_Nog</th>\n",
       "      <th>Year_Obr</th>\n",
       "      <th>Month_Obr</th>\n",
       "      <th>Temperature_Obr</th>\n",
       "      <th>Perceived_Temperature_Obr</th>\n",
       "      <th>Precipitation_Obr</th>\n",
       "      <th>Humidity_Obr</th>\n",
       "      <th>Wind_Velocity_Obr</th>\n",
       "      <th>Solar_Radiation_Obr</th>\n",
       "      <th>Cloudiness_Obr</th>\n",
       "    </tr>\n",
       "  </thead>\n",
       "  <tbody>\n",
       "    <tr>\n",
       "      <th>0</th>\n",
       "      <td>2010-01-01</td>\n",
       "      <td>GERENCIA</td>\n",
       "      <td>1329.0</td>\n",
       "      <td>2010-01-01 00:00:00</td>\n",
       "      <td>0</td>\n",
       "      <td>4</td>\n",
       "      <td>1</td>\n",
       "      <td>2010</td>\n",
       "      <td>enero</td>\n",
       "      <td>11.6</td>\n",
       "      <td>...</td>\n",
       "      <td>0.0</td>\n",
       "      <td>2010</td>\n",
       "      <td>enero</td>\n",
       "      <td>14.3</td>\n",
       "      <td>13.6</td>\n",
       "      <td>0.0</td>\n",
       "      <td>61.5</td>\n",
       "      <td>2.6</td>\n",
       "      <td>0.0</td>\n",
       "      <td>0.0</td>\n",
       "    </tr>\n",
       "    <tr>\n",
       "      <th>1</th>\n",
       "      <td>2010-01-01</td>\n",
       "      <td>GERENCIA</td>\n",
       "      <td>1279.0</td>\n",
       "      <td>2010-01-01 01:00:00</td>\n",
       "      <td>1</td>\n",
       "      <td>4</td>\n",
       "      <td>1</td>\n",
       "      <td>2010</td>\n",
       "      <td>enero</td>\n",
       "      <td>10.8</td>\n",
       "      <td>...</td>\n",
       "      <td>0.0</td>\n",
       "      <td>2010</td>\n",
       "      <td>enero</td>\n",
       "      <td>12.5</td>\n",
       "      <td>12.1</td>\n",
       "      <td>0.0</td>\n",
       "      <td>64.8</td>\n",
       "      <td>2.5</td>\n",
       "      <td>0.0</td>\n",
       "      <td>0.0</td>\n",
       "    </tr>\n",
       "  </tbody>\n",
       "</table>\n",
       "<p>2 rows × 97 columns</p>\n",
       "</div>"
      ],
      "text/plain": [
       "        Date      Zone  Energy_Demand           Date_time  Hour  Day  Month  \\\n",
       "0 2010-01-01  GERENCIA         1329.0 2010-01-01 00:00:00     0    4      1   \n",
       "1 2010-01-01  GERENCIA         1279.0 2010-01-01 01:00:00     1    4      1   \n",
       "\n",
       "   Year_Ca Month_Ca  Temperature_Ca  ...  Cloudiness_Nog  Year_Obr  Month_Obr  \\\n",
       "0     2010    enero            11.6  ...             0.0      2010      enero   \n",
       "1     2010    enero            10.8  ...             0.0      2010      enero   \n",
       "\n",
       "   Temperature_Obr  Perceived_Temperature_Obr  Precipitation_Obr  \\\n",
       "0             14.3                       13.6                0.0   \n",
       "1             12.5                       12.1                0.0   \n",
       "\n",
       "   Humidity_Obr Wind_Velocity_Obr  Solar_Radiation_Obr  Cloudiness_Obr  \n",
       "0          61.5               2.6                  0.0             0.0  \n",
       "1          64.8               2.5                  0.0             0.0  \n",
       "\n",
       "[2 rows x 97 columns]"
      ]
     },
     "execution_count": 29,
     "metadata": {},
     "output_type": "execute_result"
    }
   ],
   "source": [
    "#drop city list columns\n",
    "cit_list = [col for col in df_f.columns if col.startswith('City')]\n",
    "df_f.drop(columns=(cit_list), axis = 1,  inplace=True)\n",
    "df_f.head(2)\n",
    "#print(cit_list) #verify"
   ]
  },
  {
   "cell_type": "code",
   "execution_count": 30,
   "metadata": {
    "tags": []
   },
   "outputs": [],
   "source": [
    "#drop year in city columns\n",
    "year_list = [col for col in df_f.columns if col.startswith('Year_')]\n",
    "df_f.drop(columns=(year_list), axis = 1,  inplace=True)\n",
    "df_f.drop(columns=['Zone'], inplace=True)\n"
   ]
  },
  {
   "cell_type": "code",
   "execution_count": 31,
   "metadata": {
    "tags": []
   },
   "outputs": [],
   "source": [
    "#drop Month in city columns\n",
    "month_list = [col for col in df_f.columns if col.startswith('Month_')]\n",
    "df_f.drop(columns=(month_list), axis = 1,  inplace=True)\n"
   ]
  },
  {
   "cell_type": "code",
   "execution_count": 32,
   "metadata": {
    "tags": []
   },
   "outputs": [
    {
     "data": {
      "text/plain": [
       "Index(['Date', 'Energy_Demand', 'Date_time', 'Hour', 'Day', 'Month',\n",
       "       'Temperature_Ca', 'Perceived_Temperature_Ca', 'Precipitation_Ca',\n",
       "       'Humidity_Ca', 'Wind_Velocity_Ca', 'Solar_Radiation_Ca',\n",
       "       'Cloudiness_Ca', 'Temperature_Cul', 'Perceived_Temperature_Cul',\n",
       "       'Precipitation_Cul', 'Humidity_Cul', 'Wind_Velocity_Cul',\n",
       "       'Solar_Radiation_Cul', 'Cloudiness_Cul', 'Temperature_Guas',\n",
       "       'Perceived_Temperature_Guas', 'Precipitation_Guas', 'Humidity_Guas',\n",
       "       'Wind_Velocity_Guas', 'Solar_Radiation_Guas', 'Cloudiness_Guas',\n",
       "       'Temperature_Guay', 'Perceived_Temperature_Guay', 'Precipitation_Guay',\n",
       "       'Humidity_Guay', 'Wind_Velocity_Guay', 'Solar_Radiation_Guay',\n",
       "       'Cloudiness_Guay', 'Temperature_Herm', 'Perceived_Temperature_Herm',\n",
       "       'Precipitation_Herm', 'Humidity_Herm', 'Wind_Velocity_Herm',\n",
       "       'Solar_Radiation_Herm', 'Cloudiness_Herm', 'Temperature_Maz',\n",
       "       'Perceived_Temperature_Maz', 'Precipitation_Maz', 'Humidity_Maz',\n",
       "       'Wind_Velocity_Maz', 'Solar_Radiation_Maz', 'Cloudiness_Maz',\n",
       "       'Temperature_Moch', 'Perceived_Temperature_Moch', 'Precipitation_Moch',\n",
       "       'Humidity_Moch', 'Wind_Velocity_Moch', 'Solar_Radiation_Moch',\n",
       "       'Cloudiness_Moch', 'Temperature_Nav', 'Perceived_Temperature_Nav',\n",
       "       'Precipitation_Nav', 'Humidity_Nav', 'Wind_Velocity_Nav',\n",
       "       'Solar_Radiation_Nav', 'Cloudiness_Nav', 'Temperature_Nog',\n",
       "       'Perceived_Temperature_Nog', 'Precipitation_Nog', 'Humidity_Nog',\n",
       "       'Wind_Velocity_Nog', 'Solar_Radiation_Nog', 'Cloudiness_Nog',\n",
       "       'Temperature_Obr', 'Perceived_Temperature_Obr', 'Precipitation_Obr',\n",
       "       'Humidity_Obr', 'Wind_Velocity_Obr', 'Solar_Radiation_Obr',\n",
       "       'Cloudiness_Obr'],\n",
       "      dtype='object')"
      ]
     },
     "execution_count": 32,
     "metadata": {},
     "output_type": "execute_result"
    }
   ],
   "source": [
    "columns = df_f.columns\n",
    "columns"
   ]
  },
  {
   "cell_type": "code",
   "execution_count": 35,
   "metadata": {
    "tags": []
   },
   "outputs": [],
   "source": [
    "df_gcrno = df_f\n",
    "df_gcrno['Date'] = pd.to_datetime(df_gcrno['Date'], format='%Y/%m/%d')"
   ]
  },
  {
   "cell_type": "code",
   "execution_count": 36,
   "metadata": {
    "tags": []
   },
   "outputs": [
    {
     "data": {
      "text/html": [
       "<div>\n",
       "<style scoped>\n",
       "    .dataframe tbody tr th:only-of-type {\n",
       "        vertical-align: middle;\n",
       "    }\n",
       "\n",
       "    .dataframe tbody tr th {\n",
       "        vertical-align: top;\n",
       "    }\n",
       "\n",
       "    .dataframe thead th {\n",
       "        text-align: right;\n",
       "    }\n",
       "</style>\n",
       "<table border=\"1\" class=\"dataframe\">\n",
       "  <thead>\n",
       "    <tr style=\"text-align: right;\">\n",
       "      <th></th>\n",
       "      <th>Date</th>\n",
       "      <th>Zone</th>\n",
       "      <th>Energy_Demand</th>\n",
       "      <th>Date_time</th>\n",
       "      <th>Hour</th>\n",
       "      <th>Day</th>\n",
       "      <th>Month</th>\n",
       "    </tr>\n",
       "  </thead>\n",
       "  <tbody>\n",
       "    <tr>\n",
       "      <th>0</th>\n",
       "      <td>2010-01-01</td>\n",
       "      <td>GERENCIA</td>\n",
       "      <td>1329.0</td>\n",
       "      <td>2010-01-01 00:00:00</td>\n",
       "      <td>0</td>\n",
       "      <td>4</td>\n",
       "      <td>1</td>\n",
       "    </tr>\n",
       "    <tr>\n",
       "      <th>1</th>\n",
       "      <td>2010-01-01</td>\n",
       "      <td>GERENCIA</td>\n",
       "      <td>1279.0</td>\n",
       "      <td>2010-01-01 01:00:00</td>\n",
       "      <td>1</td>\n",
       "      <td>4</td>\n",
       "      <td>1</td>\n",
       "    </tr>\n",
       "  </tbody>\n",
       "</table>\n",
       "</div>"
      ],
      "text/plain": [
       "        Date      Zone  Energy_Demand           Date_time  Hour  Day  Month\n",
       "0 2010-01-01  GERENCIA         1329.0 2010-01-01 00:00:00     0    4      1\n",
       "1 2010-01-01  GERENCIA         1279.0 2010-01-01 01:00:00     1    4      1"
      ]
     },
     "execution_count": 36,
     "metadata": {},
     "output_type": "execute_result"
    }
   ],
   "source": [
    "deman_td.head(2)"
   ]
  },
  {
   "cell_type": "markdown",
   "metadata": {
    "heading_collapsed": true
   },
   "source": [
    "## 3. Ajuste de series temporales multivariantes"
   ]
  },
  {
   "cell_type": "code",
   "execution_count": 37,
   "metadata": {
    "hidden": true,
    "tags": []
   },
   "outputs": [
    {
     "data": {
      "text/html": [
       "<div>\n",
       "<style scoped>\n",
       "    .dataframe tbody tr th:only-of-type {\n",
       "        vertical-align: middle;\n",
       "    }\n",
       "\n",
       "    .dataframe tbody tr th {\n",
       "        vertical-align: top;\n",
       "    }\n",
       "\n",
       "    .dataframe thead th {\n",
       "        text-align: right;\n",
       "    }\n",
       "</style>\n",
       "<table border=\"1\" class=\"dataframe\">\n",
       "  <thead>\n",
       "    <tr style=\"text-align: right;\">\n",
       "      <th></th>\n",
       "      <th>Date</th>\n",
       "      <th>Energy_Demand</th>\n",
       "      <th>Date_time</th>\n",
       "      <th>Hour</th>\n",
       "      <th>Day</th>\n",
       "      <th>Month</th>\n",
       "      <th>Temperature_Ca</th>\n",
       "      <th>Perceived_Temperature_Ca</th>\n",
       "      <th>Precipitation_Ca</th>\n",
       "      <th>Humidity_Ca</th>\n",
       "      <th>...</th>\n",
       "      <th>Wind_Velocity_Nog</th>\n",
       "      <th>Solar_Radiation_Nog</th>\n",
       "      <th>Cloudiness_Nog</th>\n",
       "      <th>Temperature_Obr</th>\n",
       "      <th>Perceived_Temperature_Obr</th>\n",
       "      <th>Precipitation_Obr</th>\n",
       "      <th>Humidity_Obr</th>\n",
       "      <th>Wind_Velocity_Obr</th>\n",
       "      <th>Solar_Radiation_Obr</th>\n",
       "      <th>Cloudiness_Obr</th>\n",
       "    </tr>\n",
       "    <tr>\n",
       "      <th>Date_time</th>\n",
       "      <th></th>\n",
       "      <th></th>\n",
       "      <th></th>\n",
       "      <th></th>\n",
       "      <th></th>\n",
       "      <th></th>\n",
       "      <th></th>\n",
       "      <th></th>\n",
       "      <th></th>\n",
       "      <th></th>\n",
       "      <th></th>\n",
       "      <th></th>\n",
       "      <th></th>\n",
       "      <th></th>\n",
       "      <th></th>\n",
       "      <th></th>\n",
       "      <th></th>\n",
       "      <th></th>\n",
       "      <th></th>\n",
       "      <th></th>\n",
       "      <th></th>\n",
       "    </tr>\n",
       "  </thead>\n",
       "  <tbody>\n",
       "    <tr>\n",
       "      <th>2010-01-01 00:00:00</th>\n",
       "      <td>2010-01-01</td>\n",
       "      <td>1329.0</td>\n",
       "      <td>2010-01-01 00:00:00</td>\n",
       "      <td>0</td>\n",
       "      <td>4</td>\n",
       "      <td>1</td>\n",
       "      <td>11.6</td>\n",
       "      <td>10.8</td>\n",
       "      <td>0.0</td>\n",
       "      <td>32.8</td>\n",
       "      <td>...</td>\n",
       "      <td>2.3</td>\n",
       "      <td>0.0</td>\n",
       "      <td>0.0</td>\n",
       "      <td>14.3</td>\n",
       "      <td>13.6</td>\n",
       "      <td>0.0</td>\n",
       "      <td>61.5</td>\n",
       "      <td>2.6</td>\n",
       "      <td>0.0</td>\n",
       "      <td>0.0</td>\n",
       "    </tr>\n",
       "    <tr>\n",
       "      <th>2010-01-01 01:00:00</th>\n",
       "      <td>2010-01-01</td>\n",
       "      <td>1279.0</td>\n",
       "      <td>2010-01-01 01:00:00</td>\n",
       "      <td>1</td>\n",
       "      <td>4</td>\n",
       "      <td>1</td>\n",
       "      <td>10.8</td>\n",
       "      <td>10.4</td>\n",
       "      <td>0.0</td>\n",
       "      <td>33.3</td>\n",
       "      <td>...</td>\n",
       "      <td>2.2</td>\n",
       "      <td>0.0</td>\n",
       "      <td>0.0</td>\n",
       "      <td>12.5</td>\n",
       "      <td>12.1</td>\n",
       "      <td>0.0</td>\n",
       "      <td>64.8</td>\n",
       "      <td>2.5</td>\n",
       "      <td>0.0</td>\n",
       "      <td>0.0</td>\n",
       "    </tr>\n",
       "  </tbody>\n",
       "</table>\n",
       "<p>2 rows × 76 columns</p>\n",
       "</div>"
      ],
      "text/plain": [
       "                          Date  Energy_Demand           Date_time  Hour  Day  \\\n",
       "Date_time                                                                      \n",
       "2010-01-01 00:00:00 2010-01-01         1329.0 2010-01-01 00:00:00     0    4   \n",
       "2010-01-01 01:00:00 2010-01-01         1279.0 2010-01-01 01:00:00     1    4   \n",
       "\n",
       "                     Month  Temperature_Ca  Perceived_Temperature_Ca  \\\n",
       "Date_time                                                              \n",
       "2010-01-01 00:00:00      1            11.6                      10.8   \n",
       "2010-01-01 01:00:00      1            10.8                      10.4   \n",
       "\n",
       "                     Precipitation_Ca  Humidity_Ca  ...  Wind_Velocity_Nog  \\\n",
       "Date_time                                           ...                      \n",
       "2010-01-01 00:00:00               0.0         32.8  ...                2.3   \n",
       "2010-01-01 01:00:00               0.0         33.3  ...                2.2   \n",
       "\n",
       "                     Solar_Radiation_Nog  Cloudiness_Nog  Temperature_Obr  \\\n",
       "Date_time                                                                   \n",
       "2010-01-01 00:00:00                  0.0             0.0             14.3   \n",
       "2010-01-01 01:00:00                  0.0             0.0             12.5   \n",
       "\n",
       "                     Perceived_Temperature_Obr  Precipitation_Obr  \\\n",
       "Date_time                                                           \n",
       "2010-01-01 00:00:00                       13.6                0.0   \n",
       "2010-01-01 01:00:00                       12.1                0.0   \n",
       "\n",
       "                     Humidity_Obr  Wind_Velocity_Obr  Solar_Radiation_Obr  \\\n",
       "Date_time                                                                   \n",
       "2010-01-01 00:00:00          61.5                2.6                  0.0   \n",
       "2010-01-01 01:00:00          64.8                2.5                  0.0   \n",
       "\n",
       "                     Cloudiness_Obr  \n",
       "Date_time                            \n",
       "2010-01-01 00:00:00             0.0  \n",
       "2010-01-01 01:00:00             0.0  \n",
       "\n",
       "[2 rows x 76 columns]"
      ]
     },
     "execution_count": 37,
     "metadata": {},
     "output_type": "execute_result"
    }
   ],
   "source": [
    "# Creating Day, Hour and Month columns\n",
    "df_gcrno2 = df_gcrno\n",
    "df_gcrno2.index = df_gcrno.Date_time \n",
    "df_gcrno2.sort_index(inplace=True)\n",
    "df_gcrno2['Date_time'] = df_gcrno.index\n",
    "# Updating column titles in consumo\n",
    "#df_gcrno.rename(columns={'FECHA':'Date', 'HORA': 'Hour', 'DEMANDA':'Energy_Demand'}, inplace = True)\n",
    "df_gcrno2.head(2)"
   ]
  },
  {
   "cell_type": "markdown",
   "metadata": {},
   "source": [
    "Ahora es necesario integrar las columnas relacionadas a variables de calendario"
   ]
  },
  {
   "cell_type": "code",
   "execution_count": 38,
   "metadata": {
    "tags": []
   },
   "outputs": [],
   "source": [
    "#\n",
    "df_dataset_1 = pd.read_excel('./inputs/Dataset_GCRNO.xlsx')"
   ]
  },
  {
   "cell_type": "code",
   "execution_count": 39,
   "metadata": {
    "tags": []
   },
   "outputs": [],
   "source": [
    "df_gcrno = df_dataset_1.melt(\n",
    "    id_vars = ['FECHA'],\n",
    "    value_vars = [f'DEM_GCRNO_H{i}' for i in range(24)],\n",
    "    var_name = 'HORA',\n",
    "    value_name = 'DEMANDA'\n",
    ").replace(\n",
    "    {f'DEM_GCRNO_H{i}': i for i in range(24)}\n",
    ")"
   ]
  },
  {
   "cell_type": "code",
   "execution_count": 40,
   "metadata": {
    "tags": []
   },
   "outputs": [
    {
     "data": {
      "text/html": [
       "<div>\n",
       "<style scoped>\n",
       "    .dataframe tbody tr th:only-of-type {\n",
       "        vertical-align: middle;\n",
       "    }\n",
       "\n",
       "    .dataframe tbody tr th {\n",
       "        vertical-align: top;\n",
       "    }\n",
       "\n",
       "    .dataframe thead th {\n",
       "        text-align: right;\n",
       "    }\n",
       "</style>\n",
       "<table border=\"1\" class=\"dataframe\">\n",
       "  <thead>\n",
       "    <tr style=\"text-align: right;\">\n",
       "      <th></th>\n",
       "      <th>Date</th>\n",
       "      <th>Hour</th>\n",
       "      <th>Energy_Demand</th>\n",
       "    </tr>\n",
       "  </thead>\n",
       "  <tbody>\n",
       "    <tr>\n",
       "      <th>2007-01-01 00:00:00</th>\n",
       "      <td>2007-01-01</td>\n",
       "      <td>0</td>\n",
       "      <td>1297.0</td>\n",
       "    </tr>\n",
       "    <tr>\n",
       "      <th>2007-01-01 01:00:00</th>\n",
       "      <td>2007-01-01</td>\n",
       "      <td>1</td>\n",
       "      <td>1255.0</td>\n",
       "    </tr>\n",
       "  </tbody>\n",
       "</table>\n",
       "</div>"
      ],
      "text/plain": [
       "                          Date  Hour  Energy_Demand\n",
       "2007-01-01 00:00:00 2007-01-01     0         1297.0\n",
       "2007-01-01 01:00:00 2007-01-01     1         1255.0"
      ]
     },
     "execution_count": 40,
     "metadata": {},
     "output_type": "execute_result"
    }
   ],
   "source": [
    "df_gcrno['Date'] = pd.to_datetime(df_gcrno['FECHA'], format='%d/%m/%Y')\n",
    "df_gcrno.index = df_gcrno.FECHA + pd.to_timedelta(df_gcrno.HORA, unit='h')\n",
    "df_gcrno.sort_index(inplace=True)\n",
    "df_gcrno.drop(columns=['Date'], inplace=True)\n",
    "df_gcrno = df_gcrno.asfreq('h', method='pad')\n",
    "#df_gcrno['Date_time'] = df_gcrno.index\n",
    "df_gcrno.rename(columns={'FECHA':'Date', 'HORA': 'Hour', 'DEMANDA':'Energy_Demand'}, inplace = True)\n",
    "df_gcrno.head(2)"
   ]
  },
  {
   "cell_type": "code",
   "execution_count": 41,
   "metadata": {
    "tags": []
   },
   "outputs": [],
   "source": [
    "# Adding columns of exogenous variables\n",
    "df_exogenous = df_dataset_1[['FECHA',\n",
    "\n",
    "                             'LUNES_FESTIVO',\n",
    "                             'MARTES_POSTFESTIVO', \n",
    "                             'SEMANA_SANTA', \n",
    "                             '1_MAYO', \n",
    "                             '10_MAYO', \n",
    "                             '16_SEP',\n",
    "                             '2_NOV.', \n",
    "                             'PRE-NAVIDAD_Y_NEW_YEAR', \n",
    "                             'NAVIDAD_Y_NEW_YEAR',\n",
    "                             'POST-NAVIDAD_Y_NEW_YEAR'\n",
    "                            ]]\n",
    "df_exogenous.rename(columns = {'FECHA':'Date',\n",
    "                               'LUNES_FESTIVO':'Monday_Holiday',\n",
    "                               'MARTES_POSTFESTIVO':'Tuesday_Aft_Hol', \n",
    "                               'SEMANA_SANTA': 'Easter_week', \n",
    "                               '1_MAYO':'May_1s', \n",
    "                               '10_MAYO':'May_10t', \n",
    "                               '16_SEP': 'Sept_16',\n",
    "                               '2_NOV.':'Nov_2nd', \n",
    "                               'PRE-NAVIDAD_Y_NEW_YEAR':'Before_Christmas_NY', \n",
    "                               'NAVIDAD_Y_NEW_YEAR':'Christmas_NY',\n",
    "                               'POST-NAVIDAD_Y_NEW_YEAR':'After_Christmas_NY'\n",
    "                              }, inplace = True)\n",
    "df_exogenous['Date']= pd.to_datetime(df_exogenous['Date'], format='%d/%m/%Y')\n"
   ]
  },
  {
   "cell_type": "code",
   "execution_count": 42,
   "metadata": {
    "tags": []
   },
   "outputs": [
    {
     "data": {
      "text/plain": [
       "Index(['Date', 'Monday_Holiday', 'Tuesday_Aft_Hol', 'Easter_week', 'May_1s',\n",
       "       'May_10t', 'Sept_16', 'Nov_2nd', 'Before_Christmas_NY', 'Christmas_NY',\n",
       "       'After_Christmas_NY'],\n",
       "      dtype='object')"
      ]
     },
     "execution_count": 42,
     "metadata": {},
     "output_type": "execute_result"
    }
   ],
   "source": [
    "df_exogenous.columns"
   ]
  },
  {
   "cell_type": "code",
   "execution_count": 43,
   "metadata": {
    "tags": []
   },
   "outputs": [],
   "source": [
    "df_GCRNO_complete =  pd.merge(df_gcrno2, df_exogenous, on='Date', how='left')\n"
   ]
  },
  {
   "cell_type": "code",
   "execution_count": 45,
   "metadata": {
    "tags": []
   },
   "outputs": [
    {
     "data": {
      "text/html": [
       "<div>\n",
       "<style scoped>\n",
       "    .dataframe tbody tr th:only-of-type {\n",
       "        vertical-align: middle;\n",
       "    }\n",
       "\n",
       "    .dataframe tbody tr th {\n",
       "        vertical-align: top;\n",
       "    }\n",
       "\n",
       "    .dataframe thead th {\n",
       "        text-align: right;\n",
       "    }\n",
       "</style>\n",
       "<table border=\"1\" class=\"dataframe\">\n",
       "  <thead>\n",
       "    <tr style=\"text-align: right;\">\n",
       "      <th></th>\n",
       "      <th>Date</th>\n",
       "      <th>Energy_Demand</th>\n",
       "      <th>Hour</th>\n",
       "      <th>Day</th>\n",
       "      <th>Month</th>\n",
       "      <th>Temperature_Ca</th>\n",
       "      <th>Perceived_Temperature_Ca</th>\n",
       "      <th>Precipitation_Ca</th>\n",
       "      <th>Humidity_Ca</th>\n",
       "      <th>Wind_Velocity_Ca</th>\n",
       "      <th>...</th>\n",
       "      <th>Monday_Holiday</th>\n",
       "      <th>Tuesday_Aft_Hol</th>\n",
       "      <th>Easter_week</th>\n",
       "      <th>May_1s</th>\n",
       "      <th>May_10t</th>\n",
       "      <th>Sept_16</th>\n",
       "      <th>Nov_2nd</th>\n",
       "      <th>Before_Christmas_NY</th>\n",
       "      <th>Christmas_NY</th>\n",
       "      <th>After_Christmas_NY</th>\n",
       "    </tr>\n",
       "    <tr>\n",
       "      <th>Date_time</th>\n",
       "      <th></th>\n",
       "      <th></th>\n",
       "      <th></th>\n",
       "      <th></th>\n",
       "      <th></th>\n",
       "      <th></th>\n",
       "      <th></th>\n",
       "      <th></th>\n",
       "      <th></th>\n",
       "      <th></th>\n",
       "      <th></th>\n",
       "      <th></th>\n",
       "      <th></th>\n",
       "      <th></th>\n",
       "      <th></th>\n",
       "      <th></th>\n",
       "      <th></th>\n",
       "      <th></th>\n",
       "      <th></th>\n",
       "      <th></th>\n",
       "      <th></th>\n",
       "    </tr>\n",
       "  </thead>\n",
       "  <tbody>\n",
       "    <tr>\n",
       "      <th>2010-01-01 00:00:00</th>\n",
       "      <td>2010-01-01</td>\n",
       "      <td>1329.0</td>\n",
       "      <td>0</td>\n",
       "      <td>4</td>\n",
       "      <td>1</td>\n",
       "      <td>11.6</td>\n",
       "      <td>10.8</td>\n",
       "      <td>0.0</td>\n",
       "      <td>32.8</td>\n",
       "      <td>2.6</td>\n",
       "      <td>...</td>\n",
       "      <td>0</td>\n",
       "      <td>0</td>\n",
       "      <td>0</td>\n",
       "      <td>0</td>\n",
       "      <td>0</td>\n",
       "      <td>0</td>\n",
       "      <td>0</td>\n",
       "      <td>0</td>\n",
       "      <td>1</td>\n",
       "      <td>0</td>\n",
       "    </tr>\n",
       "    <tr>\n",
       "      <th>2010-01-01 01:00:00</th>\n",
       "      <td>2010-01-01</td>\n",
       "      <td>1279.0</td>\n",
       "      <td>1</td>\n",
       "      <td>4</td>\n",
       "      <td>1</td>\n",
       "      <td>10.8</td>\n",
       "      <td>10.4</td>\n",
       "      <td>0.0</td>\n",
       "      <td>33.3</td>\n",
       "      <td>2.6</td>\n",
       "      <td>...</td>\n",
       "      <td>0</td>\n",
       "      <td>0</td>\n",
       "      <td>0</td>\n",
       "      <td>0</td>\n",
       "      <td>0</td>\n",
       "      <td>0</td>\n",
       "      <td>0</td>\n",
       "      <td>0</td>\n",
       "      <td>1</td>\n",
       "      <td>0</td>\n",
       "    </tr>\n",
       "  </tbody>\n",
       "</table>\n",
       "<p>2 rows × 85 columns</p>\n",
       "</div>"
      ],
      "text/plain": [
       "                          Date  Energy_Demand  Hour  Day  Month  \\\n",
       "Date_time                                                         \n",
       "2010-01-01 00:00:00 2010-01-01         1329.0     0    4      1   \n",
       "2010-01-01 01:00:00 2010-01-01         1279.0     1    4      1   \n",
       "\n",
       "                     Temperature_Ca  Perceived_Temperature_Ca  \\\n",
       "Date_time                                                       \n",
       "2010-01-01 00:00:00            11.6                      10.8   \n",
       "2010-01-01 01:00:00            10.8                      10.4   \n",
       "\n",
       "                     Precipitation_Ca  Humidity_Ca  Wind_Velocity_Ca  ...  \\\n",
       "Date_time                                                             ...   \n",
       "2010-01-01 00:00:00               0.0         32.8               2.6  ...   \n",
       "2010-01-01 01:00:00               0.0         33.3               2.6  ...   \n",
       "\n",
       "                     Monday_Holiday  Tuesday_Aft_Hol  Easter_week  May_1s  \\\n",
       "Date_time                                                                   \n",
       "2010-01-01 00:00:00               0                0            0       0   \n",
       "2010-01-01 01:00:00               0                0            0       0   \n",
       "\n",
       "                     May_10t  Sept_16  Nov_2nd  Before_Christmas_NY  \\\n",
       "Date_time                                                             \n",
       "2010-01-01 00:00:00        0        0        0                    0   \n",
       "2010-01-01 01:00:00        0        0        0                    0   \n",
       "\n",
       "                     Christmas_NY  After_Christmas_NY  \n",
       "Date_time                                              \n",
       "2010-01-01 00:00:00             1                   0  \n",
       "2010-01-01 01:00:00             1                   0  \n",
       "\n",
       "[2 rows x 85 columns]"
      ]
     },
     "execution_count": 45,
     "metadata": {},
     "output_type": "execute_result"
    }
   ],
   "source": [
    "df_GCRNO_complete.set_index('Date_time', inplace = True)\n",
    "df_GCRNO_complete.head(2)\n"
   ]
  },
  {
   "cell_type": "markdown",
   "metadata": {
    "heading_collapsed": true
   },
   "source": [
    "## 4. Check point: verificar valores faltantes"
   ]
  },
  {
   "cell_type": "code",
   "execution_count": 46,
   "metadata": {
    "hidden": true,
    "tags": []
   },
   "outputs": [
    {
     "name": "stdout",
     "output_type": "stream",
     "text": [
      "<class 'pandas.core.frame.DataFrame'>\n",
      "DatetimeIndex: 119904 entries, 2010-01-01 00:00:00 to 2023-09-05 23:00:00\n",
      "Data columns (total 84 columns):\n",
      " #   Column                      Non-Null Count   Dtype  \n",
      "---  ------                      --------------   -----  \n",
      " 0   Energy_Demand               119904 non-null  float64\n",
      " 1   Hour                        119904 non-null  int64  \n",
      " 2   Day                         119904 non-null  int64  \n",
      " 3   Month                       119904 non-null  int64  \n",
      " 4   Temperature_Ca              119904 non-null  float64\n",
      " 5   Perceived_Temperature_Ca    119904 non-null  float64\n",
      " 6   Precipitation_Ca            119904 non-null  float64\n",
      " 7   Humidity_Ca                 119904 non-null  float64\n",
      " 8   Wind_Velocity_Ca            119904 non-null  float64\n",
      " 9   Solar_Radiation_Ca          119904 non-null  float64\n",
      " 10  Cloudiness_Ca               119904 non-null  float64\n",
      " 11  Temperature_Cul             119904 non-null  float64\n",
      " 12  Perceived_Temperature_Cul   119904 non-null  float64\n",
      " 13  Precipitation_Cul           119904 non-null  float64\n",
      " 14  Humidity_Cul                119904 non-null  float64\n",
      " 15  Wind_Velocity_Cul           119904 non-null  float64\n",
      " 16  Solar_Radiation_Cul         119904 non-null  float64\n",
      " 17  Cloudiness_Cul              119904 non-null  float64\n",
      " 18  Temperature_Guas            119904 non-null  float64\n",
      " 19  Perceived_Temperature_Guas  119904 non-null  float64\n",
      " 20  Precipitation_Guas          119904 non-null  float64\n",
      " 21  Humidity_Guas               119904 non-null  float64\n",
      " 22  Wind_Velocity_Guas          119904 non-null  float64\n",
      " 23  Solar_Radiation_Guas        119904 non-null  float64\n",
      " 24  Cloudiness_Guas             119904 non-null  float64\n",
      " 25  Temperature_Guay            119904 non-null  float64\n",
      " 26  Perceived_Temperature_Guay  119904 non-null  float64\n",
      " 27  Precipitation_Guay          119904 non-null  float64\n",
      " 28  Humidity_Guay               119904 non-null  float64\n",
      " 29  Wind_Velocity_Guay          119904 non-null  float64\n",
      " 30  Solar_Radiation_Guay        119904 non-null  float64\n",
      " 31  Cloudiness_Guay             119904 non-null  float64\n",
      " 32  Temperature_Herm            119904 non-null  float64\n",
      " 33  Perceived_Temperature_Herm  119904 non-null  float64\n",
      " 34  Precipitation_Herm          119904 non-null  float64\n",
      " 35  Humidity_Herm               119904 non-null  float64\n",
      " 36  Wind_Velocity_Herm          119904 non-null  float64\n",
      " 37  Solar_Radiation_Herm        119904 non-null  float64\n",
      " 38  Cloudiness_Herm             119904 non-null  float64\n",
      " 39  Temperature_Maz             119904 non-null  float64\n",
      " 40  Perceived_Temperature_Maz   119904 non-null  float64\n",
      " 41  Precipitation_Maz           119904 non-null  float64\n",
      " 42  Humidity_Maz                119904 non-null  float64\n",
      " 43  Wind_Velocity_Maz           119904 non-null  float64\n",
      " 44  Solar_Radiation_Maz         119904 non-null  float64\n",
      " 45  Cloudiness_Maz              119904 non-null  float64\n",
      " 46  Temperature_Moch            119904 non-null  float64\n",
      " 47  Perceived_Temperature_Moch  119904 non-null  float64\n",
      " 48  Precipitation_Moch          119904 non-null  float64\n",
      " 49  Humidity_Moch               119904 non-null  float64\n",
      " 50  Wind_Velocity_Moch          119904 non-null  float64\n",
      " 51  Solar_Radiation_Moch        119904 non-null  float64\n",
      " 52  Cloudiness_Moch             119904 non-null  float64\n",
      " 53  Temperature_Nav             119904 non-null  float64\n",
      " 54  Perceived_Temperature_Nav   119904 non-null  float64\n",
      " 55  Precipitation_Nav           119904 non-null  float64\n",
      " 56  Humidity_Nav                119904 non-null  float64\n",
      " 57  Wind_Velocity_Nav           119904 non-null  float64\n",
      " 58  Solar_Radiation_Nav         119904 non-null  float64\n",
      " 59  Cloudiness_Nav              119904 non-null  float64\n",
      " 60  Temperature_Nog             119904 non-null  float64\n",
      " 61  Perceived_Temperature_Nog   119904 non-null  float64\n",
      " 62  Precipitation_Nog           119904 non-null  float64\n",
      " 63  Humidity_Nog                119904 non-null  float64\n",
      " 64  Wind_Velocity_Nog           119904 non-null  float64\n",
      " 65  Solar_Radiation_Nog         119904 non-null  float64\n",
      " 66  Cloudiness_Nog              119904 non-null  float64\n",
      " 67  Temperature_Obr             119904 non-null  float64\n",
      " 68  Perceived_Temperature_Obr   119904 non-null  float64\n",
      " 69  Precipitation_Obr           119904 non-null  float64\n",
      " 70  Humidity_Obr                119904 non-null  float64\n",
      " 71  Wind_Velocity_Obr           119904 non-null  float64\n",
      " 72  Solar_Radiation_Obr         119904 non-null  float64\n",
      " 73  Cloudiness_Obr              119904 non-null  float64\n",
      " 74  Monday_Holiday              119904 non-null  int64  \n",
      " 75  Tuesday_Aft_Hol             119904 non-null  int64  \n",
      " 76  Easter_week                 119904 non-null  int64  \n",
      " 77  May_1s                      119904 non-null  int64  \n",
      " 78  May_10t                     119904 non-null  int64  \n",
      " 79  Sept_16                     119904 non-null  int64  \n",
      " 80  Nov_2nd                     119904 non-null  int64  \n",
      " 81  Before_Christmas_NY         119904 non-null  int64  \n",
      " 82  Christmas_NY                119904 non-null  int64  \n",
      " 83  After_Christmas_NY          119904 non-null  int64  \n",
      "dtypes: float64(71), int64(13)\n",
      "memory usage: 77.8 MB\n"
     ]
    }
   ],
   "source": [
    "df_GCRNO_complete.drop(columns=['Date'], inplace=True)\n",
    "df_GCRNO_complete.info()"
   ]
  },
  {
   "cell_type": "markdown",
   "metadata": {
    "heading_collapsed": true
   },
   "source": [
    "## 5. Exportando archivo de datos plata"
   ]
  },
  {
   "cell_type": "code",
   "execution_count": 47,
   "metadata": {
    "hidden": true,
    "tags": []
   },
   "outputs": [],
   "source": [
    "# Preparing the name of the file with the date of creation\n",
    "today = date.today().strftime(\"%Y-%m-%d\")\n",
    "filepath = Path('./internal_inputs/GCRNO_complete_silver_'+ today + '.csv')\n",
    "filepath.parent.mkdir(parents=True, exist_ok=True)  "
   ]
  },
  {
   "cell_type": "code",
   "execution_count": 48,
   "metadata": {
    "hidden": true,
    "tags": []
   },
   "outputs": [],
   "source": [
    "# Exporting df_GCRNO_complete datafame\n",
    "df_GCRNO_complete.to_csv(filepath, index = True)"
   ]
  },
  {
   "cell_type": "markdown",
   "metadata": {
    "hidden": true
   },
   "source": [
    "<summary>\n",
    "    <font size=\"4\" color=\"gray\"> Maestría en Ciencia de Datos | Universidad de Sonora </font>\n",
    "</summary>\n",
    "<font size=\"1\" color=\"gray\"> Blvd. Luis Encinas y Rosales s/n Col. Centro. Edificio 3K1 planta baja C.P. 83000, Hermosillo, Sonora, México </font>\n",
    "<font size=\"1\" color=\"gray\"> mcd@unison.mx </font>\n",
    "<font size=\"1\" color=\"gray\"> Tel: +52 (662) 259 2155  </font>"
   ]
  }
 ],
 "metadata": {
  "hide_input": false,
  "kernelspec": {
   "display_name": "energia",
   "language": "python",
   "name": "energia"
  },
  "language_info": {
   "codemirror_mode": {
    "name": "ipython",
    "version": 3
   },
   "file_extension": ".py",
   "mimetype": "text/x-python",
   "name": "python",
   "nbconvert_exporter": "python",
   "pygments_lexer": "ipython3",
   "version": "3.10.9"
  },
  "vscode": {
   "interpreter": {
    "hash": "ed2e2a0415bd5350151cd939f9c3e3fa92c59c92b650c54a8bc7d1eb0967a683"
   }
  }
 },
 "nbformat": 4,
 "nbformat_minor": 4
}
